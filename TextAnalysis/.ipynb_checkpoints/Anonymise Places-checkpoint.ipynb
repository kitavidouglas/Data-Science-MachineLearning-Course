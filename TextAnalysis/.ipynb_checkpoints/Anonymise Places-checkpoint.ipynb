{
 "cells": [
  {
   "cell_type": "markdown",
   "metadata": {},
   "source": [
    "# Anonymise Places\n",
    "\n",
    "In this notebook I illustrate how to identify and anonymise places in Python, without the usage of NLP techniques, such as Named Entity Recognition.\n",
    "Places identification is based on a gazetteer,which is built from the [Geonames Database](http://www.geonames.org/). Geonames is a Web service, containing (almost) all the places in the world. The Geonames database can be donwloaded for free. You can download the full database, covering all the world countries, or only one specific country. The download page is available at this [link]((https://download.geonames.org/export/dump/))\n",
    "\n",
    "\n",
    "Import gazetteer from Geonames\n"
   ]
  },
  {
   "cell_type": "code",
   "execution_count": 66,
   "metadata": {},
   "outputs": [
    {
     "name": "stderr",
     "output_type": "stream",
     "text": [
      "/Library/Frameworks/Python.framework/Versions/3.8/lib/python3.8/site-packages/IPython/core/interactiveshell.py:3062: DtypeWarning: Columns (9) have mixed types.Specify dtype option on import or set low_memory=False.\n",
      "  has_raised = await self.run_ast_nodes(code_ast.body, cell_name,\n"
     ]
    },
    {
     "data": {
      "text/html": [
       "<div>\n",
       "<style scoped>\n",
       "    .dataframe tbody tr th:only-of-type {\n",
       "        vertical-align: middle;\n",
       "    }\n",
       "\n",
       "    .dataframe tbody tr th {\n",
       "        vertical-align: top;\n",
       "    }\n",
       "\n",
       "    .dataframe thead th {\n",
       "        text-align: right;\n",
       "    }\n",
       "</style>\n",
       "<table border=\"1\" class=\"dataframe\">\n",
       "  <thead>\n",
       "    <tr style=\"text-align: right;\">\n",
       "      <th></th>\n",
       "      <th>0</th>\n",
       "      <th>1</th>\n",
       "      <th>2</th>\n",
       "      <th>3</th>\n",
       "      <th>4</th>\n",
       "      <th>5</th>\n",
       "      <th>6</th>\n",
       "      <th>7</th>\n",
       "      <th>8</th>\n",
       "      <th>9</th>\n",
       "      <th>10</th>\n",
       "      <th>11</th>\n",
       "      <th>12</th>\n",
       "      <th>13</th>\n",
       "      <th>14</th>\n",
       "      <th>15</th>\n",
       "      <th>16</th>\n",
       "      <th>17</th>\n",
       "      <th>18</th>\n",
       "    </tr>\n",
       "  </thead>\n",
       "  <tbody>\n",
       "    <tr>\n",
       "      <th>0</th>\n",
       "      <td>781057</td>\n",
       "      <td>Fosso di San Antonio</td>\n",
       "      <td>Fosso di San Antonio</td>\n",
       "      <td>NaN</td>\n",
       "      <td>41.48333</td>\n",
       "      <td>27.76667</td>\n",
       "      <td>H</td>\n",
       "      <td>STM</td>\n",
       "      <td>IT</td>\n",
       "      <td>NaN</td>\n",
       "      <td>0.0</td>\n",
       "      <td>NaN</td>\n",
       "      <td>NaN</td>\n",
       "      <td>NaN</td>\n",
       "      <td>0</td>\n",
       "      <td>NaN</td>\n",
       "      <td>171</td>\n",
       "      <td>Europe/Rome</td>\n",
       "      <td>1993-12-10</td>\n",
       "    </tr>\n",
       "    <tr>\n",
       "      <th>1</th>\n",
       "      <td>781059</td>\n",
       "      <td>Colognole</td>\n",
       "      <td>Colognole</td>\n",
       "      <td>NaN</td>\n",
       "      <td>43.50972</td>\n",
       "      <td>10.44833</td>\n",
       "      <td>P</td>\n",
       "      <td>PPL</td>\n",
       "      <td>IT</td>\n",
       "      <td>NaN</td>\n",
       "      <td>16.0</td>\n",
       "      <td>LI</td>\n",
       "      <td>49008.0</td>\n",
       "      <td>NaN</td>\n",
       "      <td>128</td>\n",
       "      <td>210.0</td>\n",
       "      <td>208</td>\n",
       "      <td>Europe/Rome</td>\n",
       "      <td>2014-01-19</td>\n",
       "    </tr>\n",
       "    <tr>\n",
       "      <th>2</th>\n",
       "      <td>781060</td>\n",
       "      <td>Casale Sant'Antonio</td>\n",
       "      <td>Casale Sant'Antonio</td>\n",
       "      <td>NaN</td>\n",
       "      <td>44.61907</td>\n",
       "      <td>11.02235</td>\n",
       "      <td>P</td>\n",
       "      <td>PPL</td>\n",
       "      <td>IT</td>\n",
       "      <td>NaN</td>\n",
       "      <td>5.0</td>\n",
       "      <td>MO</td>\n",
       "      <td>36006.0</td>\n",
       "      <td>NaN</td>\n",
       "      <td>59</td>\n",
       "      <td>NaN</td>\n",
       "      <td>35</td>\n",
       "      <td>Europe/Rome</td>\n",
       "      <td>2014-05-04</td>\n",
       "    </tr>\n",
       "    <tr>\n",
       "      <th>3</th>\n",
       "      <td>2522617</td>\n",
       "      <td>Graham Island</td>\n",
       "      <td>Graham Island</td>\n",
       "      <td>Banco Graham,Banco Grahm,Ferdinandea Bank,Ferd...</td>\n",
       "      <td>37.14266</td>\n",
       "      <td>12.88126</td>\n",
       "      <td>U</td>\n",
       "      <td>SHLU</td>\n",
       "      <td>IT</td>\n",
       "      <td>NaN</td>\n",
       "      <td>15.0</td>\n",
       "      <td>NaN</td>\n",
       "      <td>NaN</td>\n",
       "      <td>NaN</td>\n",
       "      <td>0</td>\n",
       "      <td>NaN</td>\n",
       "      <td>-9999</td>\n",
       "      <td>NaN</td>\n",
       "      <td>2021-04-27</td>\n",
       "    </tr>\n",
       "    <tr>\n",
       "      <th>4</th>\n",
       "      <td>2522676</td>\n",
       "      <td>Zungti</td>\n",
       "      <td>Zungti</td>\n",
       "      <td>NaN</td>\n",
       "      <td>38.65000</td>\n",
       "      <td>15.98333</td>\n",
       "      <td>P</td>\n",
       "      <td>PPL</td>\n",
       "      <td>IT</td>\n",
       "      <td>NaN</td>\n",
       "      <td>3.0</td>\n",
       "      <td>VV</td>\n",
       "      <td>102050.0</td>\n",
       "      <td>NaN</td>\n",
       "      <td>0</td>\n",
       "      <td>NaN</td>\n",
       "      <td>511</td>\n",
       "      <td>Europe/Rome</td>\n",
       "      <td>2011-09-11</td>\n",
       "    </tr>\n",
       "  </tbody>\n",
       "</table>\n",
       "</div>"
      ],
      "text/plain": [
       "        0                     1                     2   \\\n",
       "0   781057  Fosso di San Antonio  Fosso di San Antonio   \n",
       "1   781059             Colognole             Colognole   \n",
       "2   781060   Casale Sant'Antonio   Casale Sant'Antonio   \n",
       "3  2522617         Graham Island         Graham Island   \n",
       "4  2522676                Zungti                Zungti   \n",
       "\n",
       "                                                  3         4         5  6   \\\n",
       "0                                                NaN  41.48333  27.76667  H   \n",
       "1                                                NaN  43.50972  10.44833  P   \n",
       "2                                                NaN  44.61907  11.02235  P   \n",
       "3  Banco Graham,Banco Grahm,Ferdinandea Bank,Ferd...  37.14266  12.88126  U   \n",
       "4                                                NaN  38.65000  15.98333  P   \n",
       "\n",
       "     7   8    9     10   11        12  13   14     15    16           17  \\\n",
       "0   STM  IT  NaN   0.0  NaN       NaN NaN    0    NaN   171  Europe/Rome   \n",
       "1   PPL  IT  NaN  16.0   LI   49008.0 NaN  128  210.0   208  Europe/Rome   \n",
       "2   PPL  IT  NaN   5.0   MO   36006.0 NaN   59    NaN    35  Europe/Rome   \n",
       "3  SHLU  IT  NaN  15.0  NaN       NaN NaN    0    NaN -9999          NaN   \n",
       "4   PPL  IT  NaN   3.0   VV  102050.0 NaN    0    NaN   511  Europe/Rome   \n",
       "\n",
       "           18  \n",
       "0  1993-12-10  \n",
       "1  2014-01-19  \n",
       "2  2014-05-04  \n",
       "3  2021-04-27  \n",
       "4  2011-09-11  "
      ]
     },
     "execution_count": 66,
     "metadata": {},
     "output_type": "execute_result"
    }
   ],
   "source": [
    "import pandas as pd\n",
    "\n",
    "df = pd.read_csv('source/IT.txt', sep='\t', header=None)\n",
    "df.head()"
   ]
  },
  {
   "cell_type": "code",
   "execution_count": 67,
   "metadata": {},
   "outputs": [],
   "source": [
    "gaz = df[1]\n",
    "gaz = gaz.tolist()"
   ]
  },
  {
   "cell_type": "code",
   "execution_count": 68,
   "metadata": {},
   "outputs": [
    {
     "data": {
      "text/plain": [
       "119539"
      ]
     },
     "execution_count": 68,
     "metadata": {},
     "output_type": "execute_result"
    }
   ],
   "source": [
    "len(gaz)"
   ]
  },
  {
   "cell_type": "code",
   "execution_count": 69,
   "metadata": {},
   "outputs": [],
   "source": [
    "from nltk import ngrams\n",
    "import re\n",
    "\n",
    "def get_places(txt):\n",
    "    txt = re.sub(r\"[^\\w\\d'\\s]+\",'',txt)\n",
    "    n = 5\n",
    "    places = []\n",
    "    # remove punctuation\n",
    "    for i in range(n,0,-1):\n",
    "        tokens = ngrams(txt.split(), i)\n",
    "        for t in tokens:\n",
    "            token = \" \".join(t)\n",
    "            try:\n",
    "                res = gaz.index(token)\n",
    "            except ValueError:\n",
    "                continue\n",
    "            if res:\n",
    "                places.append(token)\n",
    "                txt = txt.replace(token,\"\")\n",
    "    return places"
   ]
  },
  {
   "cell_type": "code",
   "execution_count": 70,
   "metadata": {},
   "outputs": [
    {
     "data": {
      "text/plain": [
       "['San Severino Lucano',\n",
       " 'San Severino Marche',\n",
       " 'Francavilla in Sinni',\n",
       " 'Roma',\n",
       " 'Macerata']"
      ]
     },
     "execution_count": 70,
     "metadata": {},
     "output_type": "execute_result"
    }
   ],
   "source": [
    "txt = 'Oggi sono andata a Roma e a Macerata, poi sono passata da San Severino Lucano, San Severino Marche e Francavilla in Sinni'\n",
    "get_places(txt)"
   ]
  },
  {
   "cell_type": "code",
   "execution_count": 73,
   "metadata": {},
   "outputs": [],
   "source": [
    "def anonymise_places(txt):\n",
    "    temp_txt = re.sub(r\"[^\\w\\d'\\s]+\",'',txt)\n",
    "    n = 5\n",
    "    places = []\n",
    "    # remove punctuation\n",
    "    for i in range(n,0,-1):\n",
    "        tokens = ngrams(temp_txt.split(), i)\n",
    "        for t in tokens:\n",
    "            token = \" \".join(t)\n",
    "            try:\n",
    "                res = gaz.index(token)\n",
    "            except ValueError:\n",
    "                continue\n",
    "            if res:\n",
    "                places.append(token)\n",
    "                txt = txt.replace(token,\"X\")\n",
    "    return txt"
   ]
  },
  {
   "cell_type": "code",
   "execution_count": 74,
   "metadata": {},
   "outputs": [
    {
     "data": {
      "text/plain": [
       "'Oggi sono andata a X e a X, poi sono passata da X, X e X'"
      ]
     },
     "execution_count": 74,
     "metadata": {},
     "output_type": "execute_result"
    }
   ],
   "source": [
    "txt = 'Oggi sono andata a Roma e a Macerata, poi sono passata da San Severino Lucano, San Severino Marche e Francavilla in Sinni'\n",
    "anonymise_places(txt)"
   ]
  },
  {
   "cell_type": "code",
   "execution_count": null,
   "metadata": {},
   "outputs": [],
   "source": []
  },
  {
   "cell_type": "code",
   "execution_count": 108,
   "metadata": {},
   "outputs": [],
   "source": [
    "import gradio as gr\n",
    "\n",
    "iface = gr.Interface(\n",
    "    anonymise_places,\n",
    "    gr.inputs.Textbox(placeholder=\"Enter sentence here...\"),\n",
    "    gr.outputs.HTML(),\n",
    "    examples=[\n",
    "        [\"Roma è la capitale d'Italia\"],\n",
    "        [\"Dove vai? A Volterra.\"],\n",
    "    ]\n",
    ")"
   ]
  },
  {
   "cell_type": "code",
   "execution_count": 109,
   "metadata": {},
   "outputs": [
    {
     "name": "stdout",
     "output_type": "stream",
     "text": [
      "Running locally at: http://127.0.0.1:7913/\n",
      "To create a public link, set `share=True` in `launch()`.\n",
      "Interface loading below...\n"
     ]
    },
    {
     "data": {
      "text/html": [
       "\n",
       "        <iframe\n",
       "            width=\"900\"\n",
       "            height=\"500\"\n",
       "            src=\"http://127.0.0.1:7913/\"\n",
       "            frameborder=\"0\"\n",
       "            allowfullscreen\n",
       "        ></iframe>\n",
       "        "
      ],
      "text/plain": [
       "<IPython.lib.display.IFrame at 0x142e72c70>"
      ]
     },
     "metadata": {},
     "output_type": "display_data"
    },
    {
     "data": {
      "text/plain": [
       "(<Flask 'gradio.networking'>, 'http://127.0.0.1:7913/', None)"
      ]
     },
     "execution_count": 109,
     "metadata": {},
     "output_type": "execute_result"
    }
   ],
   "source": [
    "iface.launch()"
   ]
  },
  {
   "cell_type": "code",
   "execution_count": 128,
   "metadata": {},
   "outputs": [],
   "source": [
    "from selenium import webdriver\n",
    "from selenium.webdriver.chrome.options import Options\n",
    "from selenium.common.exceptions import NoSuchElementException\n",
    "\n",
    "\n",
    "options = Options()\n",
    "options.add_argument('headless')\n",
    "options.add_argument('--lang=it')\n",
    "\n",
    "def is_place(txt):\n",
    "    driver = webdriver.Chrome(options=options)\n",
    "    driver.get(\"https://www.geonames.org/search.html?q=\" + txt)\n",
    "    try:\n",
    "        record = driver.find_element_by_xpath(\"//tbody/tr[3]/td[2]/a[1]\").click() #click del primo link che trovo\n",
    "    except NoSuchElementException:\n",
    "        driver.close()\n",
    "        return False\n",
    "    driver.close()\n",
    "    return True\n"
   ]
  },
  {
   "cell_type": "code",
   "execution_count": 129,
   "metadata": {},
   "outputs": [],
   "source": [
    "def anonymise_places_improved(txt):\n",
    "    temp_txt = re.sub(r\"[^\\w\\d'\\s]+\",'',txt)\n",
    "    n = 5\n",
    "    places = []\n",
    "    # remove punctuation\n",
    "    for i in range(n,0,-1):\n",
    "        tokens = ngrams(temp_txt.split(), i)\n",
    "        for t in tokens:\n",
    "            token = \" \".join(t)\n",
    "            try:\n",
    "                res = is_place(token)\n",
    "            except ValueError:\n",
    "                continue\n",
    "            if res:\n",
    "                places.append(token)\n",
    "                txt = txt.replace(token,\"X\")\n",
    "    return txt"
   ]
  },
  {
   "cell_type": "code",
   "execution_count": 137,
   "metadata": {},
   "outputs": [
    {
     "data": {
      "text/html": [
       "<div>\n",
       "<style scoped>\n",
       "    .dataframe tbody tr th:only-of-type {\n",
       "        vertical-align: middle;\n",
       "    }\n",
       "\n",
       "    .dataframe tbody tr th {\n",
       "        vertical-align: top;\n",
       "    }\n",
       "\n",
       "    .dataframe thead th {\n",
       "        text-align: right;\n",
       "    }\n",
       "</style>\n",
       "<table border=\"1\" class=\"dataframe\">\n",
       "  <thead>\n",
       "    <tr style=\"text-align: right;\">\n",
       "      <th></th>\n",
       "      <th>Unnamed: 0</th>\n",
       "      <th>1</th>\n",
       "    </tr>\n",
       "  </thead>\n",
       "  <tbody>\n",
       "    <tr>\n",
       "      <th>0</th>\n",
       "      <td>0</td>\n",
       "      <td>Pic de Font Blanca</td>\n",
       "    </tr>\n",
       "    <tr>\n",
       "      <th>1</th>\n",
       "      <td>1</td>\n",
       "      <td>Roc Mélé</td>\n",
       "    </tr>\n",
       "    <tr>\n",
       "      <th>2</th>\n",
       "      <td>2</td>\n",
       "      <td>Pic des Langounelles</td>\n",
       "    </tr>\n",
       "    <tr>\n",
       "      <th>3</th>\n",
       "      <td>3</td>\n",
       "      <td>Pic de les Abelletes</td>\n",
       "    </tr>\n",
       "    <tr>\n",
       "      <th>4</th>\n",
       "      <td>4</td>\n",
       "      <td>Estany de les Abelletes</td>\n",
       "    </tr>\n",
       "  </tbody>\n",
       "</table>\n",
       "</div>"
      ],
      "text/plain": [
       "   Unnamed: 0                        1\n",
       "0           0       Pic de Font Blanca\n",
       "1           1                 Roc Mélé\n",
       "2           2     Pic des Langounelles\n",
       "3           3     Pic de les Abelletes\n",
       "4           4  Estany de les Abelletes"
      ]
     },
     "execution_count": 137,
     "metadata": {},
     "output_type": "execute_result"
    }
   ],
   "source": [
    "df_all = pd.read_csv('source/places.csv')\n",
    "df_all.head()"
   ]
  },
  {
   "cell_type": "code",
   "execution_count": 140,
   "metadata": {},
   "outputs": [],
   "source": [
    "gaz_all = df_all['1']\n",
    "gaz_all = gaz_all.tolist()"
   ]
  },
  {
   "cell_type": "code",
   "execution_count": 142,
   "metadata": {},
   "outputs": [],
   "source": [
    "def anonymise_places_all(txt):\n",
    "    temp_txt = re.sub(r\"[^\\w\\d'\\s]+\",'',txt)\n",
    "    n = 5\n",
    "    places = []\n",
    "    # remove punctuation\n",
    "    for i in range(n,0,-1):\n",
    "        tokens = ngrams(temp_txt.split(), i)\n",
    "        for t in tokens:\n",
    "            token = \" \".join(t)\n",
    "            try:\n",
    "                res = gaz_all.index(token)\n",
    "            except ValueError:\n",
    "                continue\n",
    "            if res:\n",
    "                places.append(token)\n",
    "                txt = txt.replace(token,\"X\")\n",
    "    return txt"
   ]
  },
  {
   "cell_type": "code",
   "execution_count": null,
   "metadata": {},
   "outputs": [],
   "source": [
    "txt = 'Oggi sono andata a Roma e a Macerata, New York, Parigi poi sono passata da San Severino Lucano, San Severino Marche e Francavilla in Sinni'\n",
    "anonymise_places_all(txt)"
   ]
  },
  {
   "cell_type": "code",
   "execution_count": null,
   "metadata": {},
   "outputs": [],
   "source": []
  }
 ],
 "metadata": {
  "kernelspec": {
   "display_name": "Python 3",
   "language": "python",
   "name": "python3"
  },
  "language_info": {
   "codemirror_mode": {
    "name": "ipython",
    "version": 3
   },
   "file_extension": ".py",
   "mimetype": "text/x-python",
   "name": "python",
   "nbconvert_exporter": "python",
   "pygments_lexer": "ipython3",
   "version": "3.8.1"
  }
 },
 "nbformat": 4,
 "nbformat_minor": 4
}
