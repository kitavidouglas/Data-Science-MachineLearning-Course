{
 "cells": [
  {
   "cell_type": "markdown",
   "metadata": {},
   "source": [
    "# How to extract structured information from a text\n",
    "\n",
    "In this tutorial, I illustrate how to extract structured information from a text through Python SpaCy."
   ]
  },
  {
   "cell_type": "code",
   "execution_count": 189,
   "metadata": {},
   "outputs": [],
   "source": [
    "import pandas as pd\n",
    "\n",
    "with open('register.txt', 'r') as f:\n",
    "    text = [line for line in f.readlines()]"
   ]
  },
  {
   "cell_type": "code",
   "execution_count": 190,
   "metadata": {},
   "outputs": [
    {
     "data": {
      "text/html": [
       "<div>\n",
       "<style scoped>\n",
       "    .dataframe tbody tr th:only-of-type {\n",
       "        vertical-align: middle;\n",
       "    }\n",
       "\n",
       "    .dataframe tbody tr th {\n",
       "        vertical-align: top;\n",
       "    }\n",
       "\n",
       "    .dataframe thead th {\n",
       "        text-align: right;\n",
       "    }\n",
       "</style>\n",
       "<table border=\"1\" class=\"dataframe\">\n",
       "  <thead>\n",
       "    <tr style=\"text-align: right;\">\n",
       "      <th></th>\n",
       "      <th>text</th>\n",
       "    </tr>\n",
       "  </thead>\n",
       "  <tbody>\n",
       "    <tr>\n",
       "      <th>0</th>\n",
       "      <td>On August 21 1826 a son was born to John Bon a...</td>\n",
       "    </tr>\n",
       "    <tr>\n",
       "      <th>1</th>\n",
       "      <td>On June 11 1813 a daughter was born to James D...</td>\n",
       "    </tr>\n",
       "    <tr>\n",
       "      <th>2</th>\n",
       "      <td>On January 1 1832 a son was born to his father...</td>\n",
       "    </tr>\n",
       "  </tbody>\n",
       "</table>\n",
       "</div>"
      ],
      "text/plain": [
       "                                                text\n",
       "0  On August 21 1826 a son was born to John Bon a...\n",
       "1  On June 11 1813 a daughter was born to James D...\n",
       "2  On January 1 1832 a son was born to his father..."
      ]
     },
     "execution_count": 190,
     "metadata": {},
     "output_type": "execute_result"
    }
   ],
   "source": [
    "df = pd.DataFrame(text,columns=['text'])\n",
    "df.head()"
   ]
  },
  {
   "cell_type": "code",
   "execution_count": 173,
   "metadata": {},
   "outputs": [],
   "source": [
    "from spacy.matcher import Matcher \n",
    "import spacy"
   ]
  },
  {
   "cell_type": "markdown",
   "metadata": {},
   "source": [
    "!python3.8 -m spacy download en_core_web_sm"
   ]
  },
  {
   "cell_type": "code",
   "execution_count": 191,
   "metadata": {},
   "outputs": [
    {
     "data": {
      "text/plain": [
       "On August 21 1826 a son was born to John Bon and named him Francis."
      ]
     },
     "execution_count": 191,
     "metadata": {},
     "output_type": "execute_result"
    }
   ],
   "source": [
    "import en_core_web_sm\n",
    "\n",
    "text = df['text'][0]\n",
    "\n",
    "nlp = en_core_web_sm.load()\n",
    "doc = nlp(text)"
   ]
  },
  {
   "cell_type": "code",
   "execution_count": 192,
   "metadata": {},
   "outputs": [
    {
     "data": {
      "text/html": [
       "<div>\n",
       "<style scoped>\n",
       "    .dataframe tbody tr th:only-of-type {\n",
       "        vertical-align: middle;\n",
       "    }\n",
       "\n",
       "    .dataframe tbody tr th {\n",
       "        vertical-align: top;\n",
       "    }\n",
       "\n",
       "    .dataframe thead th {\n",
       "        text-align: right;\n",
       "    }\n",
       "</style>\n",
       "<table border=\"1\" class=\"dataframe\">\n",
       "  <thead>\n",
       "    <tr style=\"text-align: right;\">\n",
       "      <th></th>\n",
       "      <th>token</th>\n",
       "      <th>pos</th>\n",
       "    </tr>\n",
       "  </thead>\n",
       "  <tbody>\n",
       "    <tr>\n",
       "      <th>0</th>\n",
       "      <td>On</td>\n",
       "      <td>ADP</td>\n",
       "    </tr>\n",
       "    <tr>\n",
       "      <th>1</th>\n",
       "      <td>August</td>\n",
       "      <td>PROPN</td>\n",
       "    </tr>\n",
       "    <tr>\n",
       "      <th>2</th>\n",
       "      <td>21</td>\n",
       "      <td>NUM</td>\n",
       "    </tr>\n",
       "    <tr>\n",
       "      <th>3</th>\n",
       "      <td>1826</td>\n",
       "      <td>NUM</td>\n",
       "    </tr>\n",
       "    <tr>\n",
       "      <th>4</th>\n",
       "      <td>a</td>\n",
       "      <td>DET</td>\n",
       "    </tr>\n",
       "    <tr>\n",
       "      <th>5</th>\n",
       "      <td>son</td>\n",
       "      <td>NOUN</td>\n",
       "    </tr>\n",
       "    <tr>\n",
       "      <th>6</th>\n",
       "      <td>was</td>\n",
       "      <td>AUX</td>\n",
       "    </tr>\n",
       "    <tr>\n",
       "      <th>7</th>\n",
       "      <td>born</td>\n",
       "      <td>VERB</td>\n",
       "    </tr>\n",
       "    <tr>\n",
       "      <th>8</th>\n",
       "      <td>to</td>\n",
       "      <td>ADP</td>\n",
       "    </tr>\n",
       "    <tr>\n",
       "      <th>9</th>\n",
       "      <td>John</td>\n",
       "      <td>PROPN</td>\n",
       "    </tr>\n",
       "    <tr>\n",
       "      <th>10</th>\n",
       "      <td>Bon</td>\n",
       "      <td>PROPN</td>\n",
       "    </tr>\n",
       "    <tr>\n",
       "      <th>11</th>\n",
       "      <td>and</td>\n",
       "      <td>CCONJ</td>\n",
       "    </tr>\n",
       "    <tr>\n",
       "      <th>12</th>\n",
       "      <td>named</td>\n",
       "      <td>VERB</td>\n",
       "    </tr>\n",
       "    <tr>\n",
       "      <th>13</th>\n",
       "      <td>him</td>\n",
       "      <td>PRON</td>\n",
       "    </tr>\n",
       "    <tr>\n",
       "      <th>14</th>\n",
       "      <td>Francis</td>\n",
       "      <td>PROPN</td>\n",
       "    </tr>\n",
       "    <tr>\n",
       "      <th>15</th>\n",
       "      <td>.</td>\n",
       "      <td>PUNCT</td>\n",
       "    </tr>\n",
       "    <tr>\n",
       "      <th>16</th>\n",
       "      <td>\\n</td>\n",
       "      <td>SPACE</td>\n",
       "    </tr>\n",
       "  </tbody>\n",
       "</table>\n",
       "</div>"
      ],
      "text/plain": [
       "      token    pos\n",
       "0        On    ADP\n",
       "1    August  PROPN\n",
       "2        21    NUM\n",
       "3      1826    NUM\n",
       "4         a    DET\n",
       "5       son   NOUN\n",
       "6       was    AUX\n",
       "7      born   VERB\n",
       "8        to    ADP\n",
       "9      John  PROPN\n",
       "10      Bon  PROPN\n",
       "11      and  CCONJ\n",
       "12    named   VERB\n",
       "13      him   PRON\n",
       "14  Francis  PROPN\n",
       "15        .  PUNCT\n",
       "16       \\n  SPACE"
      ]
     },
     "execution_count": 192,
     "metadata": {},
     "output_type": "execute_result"
    }
   ],
   "source": [
    "features = []\n",
    "for token in doc:\n",
    "    features.append({'token' : token.text, 'pos' : token.pos_})\n",
    "fdf = pd.DataFrame(features)\n",
    "fdf.head(len(fdf))\n"
   ]
  },
  {
   "cell_type": "markdown",
   "metadata": {},
   "source": [
    "## Extract Father"
   ]
  },
  {
   "cell_type": "code",
   "execution_count": 175,
   "metadata": {},
   "outputs": [],
   "source": [
    "first_tokens = ['to', 'father']\n",
    "last_tokens = ['and', 'naming']\n",
    "pattern_father = [[{'LOWER' : {'IN' : first_tokens}},\n",
    "           {'POS':'PROPN', 'OP' : '+'},\n",
    "           {'LOWER': {'IN' : last_tokens}} ]]"
   ]
  },
  {
   "cell_type": "code",
   "execution_count": 176,
   "metadata": {},
   "outputs": [],
   "source": [
    "def get_father(x):\n",
    "    nlp = en_core_web_sm.load()\n",
    "    doc = nlp(x)\n",
    "    matcher = Matcher(nlp.vocab) \n",
    "    matcher.add(\"matching_father\", pattern_father) \n",
    "\n",
    "    matches = matcher(doc)\n",
    "    sub_text = ''    \n",
    "    if(len(matches) > 0):\n",
    "        span = doc[matches[0][1]:matches[0][2]] \n",
    "        sub_text = span.text\n",
    "    tokens = sub_text.split(' ')\n",
    "    \n",
    "    name, surname = tokens[1:-1]\n",
    "    return name, surname"
   ]
  },
  {
   "cell_type": "code",
   "execution_count": 177,
   "metadata": {},
   "outputs": [],
   "source": [
    "new_columns = ['father name','surname']\n",
    "for n,col in enumerate(new_columns):\n",
    "    df[col] = df['text'].apply(lambda x: get_father(x)).apply(lambda x: x[n])\n"
   ]
  },
  {
   "cell_type": "code",
   "execution_count": 178,
   "metadata": {},
   "outputs": [
    {
     "data": {
      "text/html": [
       "<div>\n",
       "<style scoped>\n",
       "    .dataframe tbody tr th:only-of-type {\n",
       "        vertical-align: middle;\n",
       "    }\n",
       "\n",
       "    .dataframe tbody tr th {\n",
       "        vertical-align: top;\n",
       "    }\n",
       "\n",
       "    .dataframe thead th {\n",
       "        text-align: right;\n",
       "    }\n",
       "</style>\n",
       "<table border=\"1\" class=\"dataframe\">\n",
       "  <thead>\n",
       "    <tr style=\"text-align: right;\">\n",
       "      <th></th>\n",
       "      <th>text</th>\n",
       "      <th>father name</th>\n",
       "      <th>surname</th>\n",
       "    </tr>\n",
       "  </thead>\n",
       "  <tbody>\n",
       "    <tr>\n",
       "      <th>0</th>\n",
       "      <td>On August 21 1826 a son was born to John Bon a...</td>\n",
       "      <td>John</td>\n",
       "      <td>Bon</td>\n",
       "    </tr>\n",
       "    <tr>\n",
       "      <th>1</th>\n",
       "      <td>On June 11 1813 a daughter was born to James D...</td>\n",
       "      <td>James</td>\n",
       "      <td>Donne</td>\n",
       "    </tr>\n",
       "    <tr>\n",
       "      <th>2</th>\n",
       "      <td>On January 1 1832 a son was born to his father...</td>\n",
       "      <td>David</td>\n",
       "      <td>Borne</td>\n",
       "    </tr>\n",
       "  </tbody>\n",
       "</table>\n",
       "</div>"
      ],
      "text/plain": [
       "                                                text father name surname\n",
       "0  On August 21 1826 a son was born to John Bon a...        John     Bon\n",
       "1  On June 11 1813 a daughter was born to James D...       James   Donne\n",
       "2  On January 1 1832 a son was born to his father...       David   Borne"
      ]
     },
     "execution_count": 178,
     "metadata": {},
     "output_type": "execute_result"
    }
   ],
   "source": [
    "df"
   ]
  },
  {
   "cell_type": "markdown",
   "metadata": {},
   "source": [
    "## Extract Child"
   ]
  },
  {
   "cell_type": "code",
   "execution_count": 179,
   "metadata": {},
   "outputs": [],
   "source": [
    "first_tokens = ['him', 'her']\n",
    "last_tokens = ['.']\n",
    "pattern_son = [[{'LOWER' : {'IN' : first_tokens}},\n",
    "           {'POS':'PROPN', 'OP' : '+'},\n",
    "           {'LOWER': {'IN' : last_tokens}} ]]"
   ]
  },
  {
   "cell_type": "code",
   "execution_count": 180,
   "metadata": {},
   "outputs": [],
   "source": [
    "def get_child(x):\n",
    "    nlp = en_core_web_sm.load()\n",
    "    doc = nlp(x)\n",
    "    matcher = Matcher(nlp.vocab) \n",
    "    matcher.add(\"matching_son\", pattern_son) \n",
    "\n",
    "    matches = matcher(doc)\n",
    "    sub_text = ''    \n",
    "    if(len(matches) > 0):\n",
    "        span = doc[matches[0][1]:matches[0][2]] \n",
    "        sub_text = span.text\n",
    "    # remove punct\n",
    "    sub_text = sub_text[:-1]\n",
    "    tokens = sub_text.split(' ')\n",
    "    \n",
    "    return ' '.join(tokens[1:])"
   ]
  },
  {
   "cell_type": "code",
   "execution_count": 181,
   "metadata": {},
   "outputs": [],
   "source": [
    "df['child'] = df['text'].apply(lambda x: get_child(x))"
   ]
  },
  {
   "cell_type": "code",
   "execution_count": 182,
   "metadata": {},
   "outputs": [
    {
     "data": {
      "text/html": [
       "<div>\n",
       "<style scoped>\n",
       "    .dataframe tbody tr th:only-of-type {\n",
       "        vertical-align: middle;\n",
       "    }\n",
       "\n",
       "    .dataframe tbody tr th {\n",
       "        vertical-align: top;\n",
       "    }\n",
       "\n",
       "    .dataframe thead th {\n",
       "        text-align: right;\n",
       "    }\n",
       "</style>\n",
       "<table border=\"1\" class=\"dataframe\">\n",
       "  <thead>\n",
       "    <tr style=\"text-align: right;\">\n",
       "      <th></th>\n",
       "      <th>text</th>\n",
       "      <th>father name</th>\n",
       "      <th>surname</th>\n",
       "      <th>child</th>\n",
       "    </tr>\n",
       "  </thead>\n",
       "  <tbody>\n",
       "    <tr>\n",
       "      <th>0</th>\n",
       "      <td>On August 21 1826 a son was born to John Bon a...</td>\n",
       "      <td>John</td>\n",
       "      <td>Bon</td>\n",
       "      <td>Francis</td>\n",
       "    </tr>\n",
       "    <tr>\n",
       "      <th>1</th>\n",
       "      <td>On June 11 1813 a daughter was born to James D...</td>\n",
       "      <td>James</td>\n",
       "      <td>Donne</td>\n",
       "      <td>Mary Sarah</td>\n",
       "    </tr>\n",
       "    <tr>\n",
       "      <th>2</th>\n",
       "      <td>On January 1 1832 a son was born to his father...</td>\n",
       "      <td>David</td>\n",
       "      <td>Borne</td>\n",
       "      <td>John</td>\n",
       "    </tr>\n",
       "  </tbody>\n",
       "</table>\n",
       "</div>"
      ],
      "text/plain": [
       "                                                text father name surname  \\\n",
       "0  On August 21 1826 a son was born to John Bon a...        John     Bon   \n",
       "1  On June 11 1813 a daughter was born to James D...       James   Donne   \n",
       "2  On January 1 1832 a son was born to his father...       David   Borne   \n",
       "\n",
       "        child  \n",
       "0     Francis  \n",
       "1  Mary Sarah  \n",
       "2        John  "
      ]
     },
     "execution_count": 182,
     "metadata": {},
     "output_type": "execute_result"
    }
   ],
   "source": [
    "df"
   ]
  },
  {
   "cell_type": "markdown",
   "metadata": {},
   "source": [
    "## Extract Birth Date"
   ]
  },
  {
   "cell_type": "code",
   "execution_count": 183,
   "metadata": {},
   "outputs": [],
   "source": [
    "def get_date(x):\n",
    "    months={\"January\":\"01\",\"February\":\"02\",\"March\":\"03\",\"April\":\"04\",\"May\":\"05\",\"June\":\"06\",\n",
    "            \"July\":\"07\",\"August\":\"08\",\"September\":\"09\",\"October\":\"10\",\"November\":\"11\",\"December\":\"12\",}\n",
    "    tokens = x.split(\" \")\n",
    "    # month\n",
    "    month = months[tokens[1]]\n",
    "    # day\n",
    "    day=tokens[2]\n",
    "    if(len(day)==1):\n",
    "        day=\"0\"+day\n",
    "    \n",
    "    # year\n",
    "    year = x.split(\" \")[3]\n",
    "    \n",
    "    return (year+\"-\"+month+\"-\"+day)"
   ]
  },
  {
   "cell_type": "code",
   "execution_count": 184,
   "metadata": {},
   "outputs": [],
   "source": [
    "df['date'] = df['text'].apply(lambda x: get_date(x))"
   ]
  },
  {
   "cell_type": "code",
   "execution_count": 185,
   "metadata": {},
   "outputs": [
    {
     "data": {
      "text/html": [
       "<div>\n",
       "<style scoped>\n",
       "    .dataframe tbody tr th:only-of-type {\n",
       "        vertical-align: middle;\n",
       "    }\n",
       "\n",
       "    .dataframe tbody tr th {\n",
       "        vertical-align: top;\n",
       "    }\n",
       "\n",
       "    .dataframe thead th {\n",
       "        text-align: right;\n",
       "    }\n",
       "</style>\n",
       "<table border=\"1\" class=\"dataframe\">\n",
       "  <thead>\n",
       "    <tr style=\"text-align: right;\">\n",
       "      <th></th>\n",
       "      <th>text</th>\n",
       "      <th>father name</th>\n",
       "      <th>surname</th>\n",
       "      <th>child</th>\n",
       "      <th>date</th>\n",
       "    </tr>\n",
       "  </thead>\n",
       "  <tbody>\n",
       "    <tr>\n",
       "      <th>0</th>\n",
       "      <td>On August 21 1826 a son was born to John Bon a...</td>\n",
       "      <td>John</td>\n",
       "      <td>Bon</td>\n",
       "      <td>Francis</td>\n",
       "      <td>1826-08-21</td>\n",
       "    </tr>\n",
       "    <tr>\n",
       "      <th>1</th>\n",
       "      <td>On June 11 1813 a daughter was born to James D...</td>\n",
       "      <td>James</td>\n",
       "      <td>Donne</td>\n",
       "      <td>Mary Sarah</td>\n",
       "      <td>1813-06-11</td>\n",
       "    </tr>\n",
       "    <tr>\n",
       "      <th>2</th>\n",
       "      <td>On January 1 1832 a son was born to his father...</td>\n",
       "      <td>David</td>\n",
       "      <td>Borne</td>\n",
       "      <td>John</td>\n",
       "      <td>1832-01-01</td>\n",
       "    </tr>\n",
       "  </tbody>\n",
       "</table>\n",
       "</div>"
      ],
      "text/plain": [
       "                                                text father name surname  \\\n",
       "0  On August 21 1826 a son was born to John Bon a...        John     Bon   \n",
       "1  On June 11 1813 a daughter was born to James D...       James   Donne   \n",
       "2  On January 1 1832 a son was born to his father...       David   Borne   \n",
       "\n",
       "        child        date  \n",
       "0     Francis  1826-08-21  \n",
       "1  Mary Sarah  1813-06-11  \n",
       "2        John  1832-01-01  "
      ]
     },
     "execution_count": 185,
     "metadata": {},
     "output_type": "execute_result"
    }
   ],
   "source": [
    "df"
   ]
  },
  {
   "cell_type": "markdown",
   "metadata": {},
   "source": [
    "## Extract Gender"
   ]
  },
  {
   "cell_type": "code",
   "execution_count": 186,
   "metadata": {},
   "outputs": [],
   "source": [
    "def get_gender(x):\n",
    "    if 'son' in x:\n",
    "        return 'M'\n",
    "    return 'F'"
   ]
  },
  {
   "cell_type": "code",
   "execution_count": 187,
   "metadata": {},
   "outputs": [],
   "source": [
    "df['gender'] = df['text'].apply(lambda x: get_gender(x))"
   ]
  },
  {
   "cell_type": "code",
   "execution_count": 188,
   "metadata": {},
   "outputs": [
    {
     "data": {
      "text/html": [
       "<div>\n",
       "<style scoped>\n",
       "    .dataframe tbody tr th:only-of-type {\n",
       "        vertical-align: middle;\n",
       "    }\n",
       "\n",
       "    .dataframe tbody tr th {\n",
       "        vertical-align: top;\n",
       "    }\n",
       "\n",
       "    .dataframe thead th {\n",
       "        text-align: right;\n",
       "    }\n",
       "</style>\n",
       "<table border=\"1\" class=\"dataframe\">\n",
       "  <thead>\n",
       "    <tr style=\"text-align: right;\">\n",
       "      <th></th>\n",
       "      <th>text</th>\n",
       "      <th>father name</th>\n",
       "      <th>surname</th>\n",
       "      <th>child</th>\n",
       "      <th>date</th>\n",
       "      <th>gender</th>\n",
       "    </tr>\n",
       "  </thead>\n",
       "  <tbody>\n",
       "    <tr>\n",
       "      <th>0</th>\n",
       "      <td>On August 21 1826 a son was born to John Bon a...</td>\n",
       "      <td>John</td>\n",
       "      <td>Bon</td>\n",
       "      <td>Francis</td>\n",
       "      <td>1826-08-21</td>\n",
       "      <td>M</td>\n",
       "    </tr>\n",
       "    <tr>\n",
       "      <th>1</th>\n",
       "      <td>On June 11 1813 a daughter was born to James D...</td>\n",
       "      <td>James</td>\n",
       "      <td>Donne</td>\n",
       "      <td>Mary Sarah</td>\n",
       "      <td>1813-06-11</td>\n",
       "      <td>F</td>\n",
       "    </tr>\n",
       "    <tr>\n",
       "      <th>2</th>\n",
       "      <td>On January 1 1832 a son was born to his father...</td>\n",
       "      <td>David</td>\n",
       "      <td>Borne</td>\n",
       "      <td>John</td>\n",
       "      <td>1832-01-01</td>\n",
       "      <td>M</td>\n",
       "    </tr>\n",
       "  </tbody>\n",
       "</table>\n",
       "</div>"
      ],
      "text/plain": [
       "                                                text father name surname  \\\n",
       "0  On August 21 1826 a son was born to John Bon a...        John     Bon   \n",
       "1  On June 11 1813 a daughter was born to James D...       James   Donne   \n",
       "2  On January 1 1832 a son was born to his father...       David   Borne   \n",
       "\n",
       "        child        date gender  \n",
       "0     Francis  1826-08-21      M  \n",
       "1  Mary Sarah  1813-06-11      F  \n",
       "2        John  1832-01-01      M  "
      ]
     },
     "execution_count": 188,
     "metadata": {},
     "output_type": "execute_result"
    }
   ],
   "source": [
    "df"
   ]
  },
  {
   "cell_type": "code",
   "execution_count": 171,
   "metadata": {},
   "outputs": [],
   "source": [
    "df.to_csv('structured_register.csv')"
   ]
  },
  {
   "cell_type": "code",
   "execution_count": null,
   "metadata": {},
   "outputs": [],
   "source": []
  }
 ],
 "metadata": {
  "kernelspec": {
   "display_name": "Python 3",
   "language": "python",
   "name": "python3"
  },
  "language_info": {
   "codemirror_mode": {
    "name": "ipython",
    "version": 3
   },
   "file_extension": ".py",
   "mimetype": "text/x-python",
   "name": "python",
   "nbconvert_exporter": "python",
   "pygments_lexer": "ipython3",
   "version": "3.8.1"
  }
 },
 "nbformat": 4,
 "nbformat_minor": 4
}
