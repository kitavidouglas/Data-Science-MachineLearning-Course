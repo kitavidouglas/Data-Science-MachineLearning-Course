{
 "cells": [
  {
   "cell_type": "markdown",
   "metadata": {},
   "source": [
    "# How to Render the Original Layout of a Text Document After a Manipulation\n",
    "\n",
    "## Document Manipulation\n",
    "Anonymise dates"
   ]
  },
  {
   "cell_type": "code",
   "execution_count": 229,
   "metadata": {},
   "outputs": [],
   "source": [
    "import re\n",
    "\n",
    "def anonymiseDate(txt):\n",
    "    dateRE=\"(\\d{1,2}[\\.-/]\\d{1,2}[\\.-/]\\d{4})|(\\d{4})\"\n",
    "    matches=re.findall(dateRE,txt)\n",
    "    if matches:\n",
    "        for match in matches:\n",
    "            index = 0\n",
    "            if match[index] == '':\n",
    "                index = 1\n",
    "            txt = txt.replace(match[index], 'X')\n",
    "    return txt"
   ]
  },
  {
   "cell_type": "markdown",
   "metadata": {},
   "source": [
    "# Open the document with extension .docx"
   ]
  },
  {
   "cell_type": "code",
   "execution_count": 246,
   "metadata": {},
   "outputs": [],
   "source": [
    "from docx import Document\n",
    "\n",
    "doc = Document('source/WilliamShakespeare.docx')"
   ]
  },
  {
   "cell_type": "markdown",
   "metadata": {},
   "source": [
    "# Anonymise the text, paragraph by paragraph and run by run"
   ]
  },
  {
   "cell_type": "code",
   "execution_count": 241,
   "metadata": {},
   "outputs": [],
   "source": [
    "for ip in doc.paragraphs:\n",
    "    for run in ip.runs:\n",
    "        anonymised_txt = anonymiseDate(run.text)\n",
    "        run.text = anonymised_txt "
   ]
  },
  {
   "cell_type": "markdown",
   "metadata": {},
   "source": [
    "# Save the document"
   ]
  },
  {
   "cell_type": "code",
   "execution_count": 242,
   "metadata": {},
   "outputs": [],
   "source": [
    "doc.save('Anonymised.docx')"
   ]
  },
  {
   "cell_type": "markdown",
   "metadata": {},
   "source": [
    "# Open file with different extension"
   ]
  },
  {
   "cell_type": "code",
   "execution_count": 261,
   "metadata": {},
   "outputs": [
    {
     "name": "stdout",
     "output_type": "stream",
     "text": [
      "Process is interrupted.\n"
     ]
    }
   ],
   "source": [
    "%%bash\n",
    "\n",
    "/Applications/OpenOffice.app/Contents/MacOS/soffice --headless --convert-to 'docx' -o WilliamShakespeare_rtf.docx \"source/WilliamShakespeare_rtf.rtf\"\n",
    "\n",
    "#soffice = '/Applications/OpenOffice.app/Contents/MacOS/soffice'\n",
    "#subprocess.call([soffice_path, '--headless', '--convert-to', 'docx', 'source/WilliamShakespeare_rtf.rtf'])"
   ]
  },
  {
   "cell_type": "code",
   "execution_count": null,
   "metadata": {},
   "outputs": [],
   "source": []
  }
 ],
 "metadata": {
  "kernelspec": {
   "display_name": "Python 3",
   "language": "python",
   "name": "python3"
  },
  "language_info": {
   "codemirror_mode": {
    "name": "ipython",
    "version": 3
   },
   "file_extension": ".py",
   "mimetype": "text/x-python",
   "name": "python",
   "nbconvert_exporter": "python",
   "pygments_lexer": "ipython3",
   "version": "3.8.1"
  }
 },
 "nbformat": 4,
 "nbformat_minor": 4
}
