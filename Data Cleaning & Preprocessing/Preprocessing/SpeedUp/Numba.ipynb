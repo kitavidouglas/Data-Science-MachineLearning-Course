{
 "cells": [
  {
   "cell_type": "markdown",
   "metadata": {},
   "source": [
    "# Classical"
   ]
  },
  {
   "cell_type": "code",
   "execution_count": 18,
   "metadata": {},
   "outputs": [
    {
     "data": {
      "text/plain": [
       "[{'time': 7.82012939453125e-05, 'bin': 1000},\n",
       " {'time': 0.010859966278076172, 'bin': 101000},\n",
       " {'time': 0.01868891716003418, 'bin': 201000},\n",
       " {'time': 0.024454116821289062, 'bin': 301000},\n",
       " {'time': 0.03119492530822754, 'bin': 401000},\n",
       " {'time': 0.037690162658691406, 'bin': 501000},\n",
       " {'time': 0.0462799072265625, 'bin': 601000},\n",
       " {'time': 0.055665016174316406, 'bin': 701000},\n",
       " {'time': 0.06217598915100098, 'bin': 801000},\n",
       " {'time': 0.07060718536376953, 'bin': 901000},\n",
       " {'time': 0.07905888557434082, 'bin': 1001000},\n",
       " {'time': 0.08705830574035645, 'bin': 1101000},\n",
       " {'time': 0.09423303604125977, 'bin': 1201000},\n",
       " {'time': 0.10837578773498535, 'bin': 1301000},\n",
       " {'time': 0.12712717056274414, 'bin': 1401000},\n",
       " {'time': 0.12849903106689453, 'bin': 1501000},\n",
       " {'time': 0.1587822437286377, 'bin': 1601000},\n",
       " {'time': 0.15137290954589844, 'bin': 1701000},\n",
       " {'time': 0.16958999633789062, 'bin': 1801000},\n",
       " {'time': 0.2242419719696045, 'bin': 1901000},\n",
       " {'time': 0.19326519966125488, 'bin': 2001000},\n",
       " {'time': 0.2684590816497803, 'bin': 2101000},\n",
       " {'time': 0.32791709899902344, 'bin': 2201000},\n",
       " {'time': 0.20618510246276855, 'bin': 2301000},\n",
       " {'time': 0.29401302337646484, 'bin': 2401000},\n",
       " {'time': 0.48176074028015137, 'bin': 2501000},\n",
       " {'time': 0.26273202896118164, 'bin': 2601000},\n",
       " {'time': 0.2737588882446289, 'bin': 2701000},\n",
       " {'time': 0.25645971298217773, 'bin': 2801000},\n",
       " {'time': 0.2818338871002197, 'bin': 2901000},\n",
       " {'time': 0.25419187545776367, 'bin': 3001000},\n",
       " {'time': 0.2993893623352051, 'bin': 3101000},\n",
       " {'time': 0.3347971439361572, 'bin': 3201000},\n",
       " {'time': 0.3070857524871826, 'bin': 3301000},\n",
       " {'time': 0.4106452465057373, 'bin': 3401000},\n",
       " {'time': 0.33069920539855957, 'bin': 3501000},\n",
       " {'time': 0.3377969264984131, 'bin': 3601000},\n",
       " {'time': 0.3322601318359375, 'bin': 3701000},\n",
       " {'time': 0.3745231628417969, 'bin': 3801000},\n",
       " {'time': 0.36872076988220215, 'bin': 3901000},\n",
       " {'time': 0.438554048538208, 'bin': 4001000},\n",
       " {'time': 0.5042459964752197, 'bin': 4101000},\n",
       " {'time': 0.4181180000305176, 'bin': 4201000},\n",
       " {'time': 0.4495999813079834, 'bin': 4301000},\n",
       " {'time': 0.42151904106140137, 'bin': 4401000},\n",
       " {'time': 0.4058370590209961, 'bin': 4501000},\n",
       " {'time': 0.4844379425048828, 'bin': 4601000},\n",
       " {'time': 0.437985897064209, 'bin': 4701000},\n",
       " {'time': 0.434114933013916, 'bin': 4801000},\n",
       " {'time': 0.4751451015472412, 'bin': 4901000},\n",
       " {'time': 0.4636881351470947, 'bin': 5001000},\n",
       " {'time': 0.497081995010376, 'bin': 5101000},\n",
       " {'time': 0.5047130584716797, 'bin': 5201000},\n",
       " {'time': 0.46010684967041016, 'bin': 5301000},\n",
       " {'time': 0.4798450469970703, 'bin': 5401000},\n",
       " {'time': 0.5301411151885986, 'bin': 5501000},\n",
       " {'time': 0.5469870567321777, 'bin': 5601000},\n",
       " {'time': 0.5532269477844238, 'bin': 5701000},\n",
       " {'time': 0.5188980102539062, 'bin': 5801000},\n",
       " {'time': 0.5191407203674316, 'bin': 5901000},\n",
       " {'time': 0.5308220386505127, 'bin': 6001000},\n",
       " {'time': 0.600226640701294, 'bin': 6101000},\n",
       " {'time': 0.6768150329589844, 'bin': 6201000},\n",
       " {'time': 0.6089737415313721, 'bin': 6301000},\n",
       " {'time': 0.5865540504455566, 'bin': 6401000},\n",
       " {'time': 0.5667200088500977, 'bin': 6501000},\n",
       " {'time': 0.8998267650604248, 'bin': 6601000},\n",
       " {'time': 0.547825813293457, 'bin': 6701000},\n",
       " {'time': 0.5720231533050537, 'bin': 6801000},\n",
       " {'time': 0.7527470588684082, 'bin': 6901000},\n",
       " {'time': 0.5940558910369873, 'bin': 7001000},\n",
       " {'time': 0.5637712478637695, 'bin': 7101000},\n",
       " {'time': 0.6014518737792969, 'bin': 7201000},\n",
       " {'time': 0.6038980484008789, 'bin': 7301000},\n",
       " {'time': 0.6382179260253906, 'bin': 7401000},\n",
       " {'time': 0.6289598941802979, 'bin': 7501000},\n",
       " {'time': 0.6040098667144775, 'bin': 7601000},\n",
       " {'time': 0.6451511383056641, 'bin': 7701000},\n",
       " {'time': 0.7472167015075684, 'bin': 7801000},\n",
       " {'time': 0.6732280254364014, 'bin': 7901000},\n",
       " {'time': 0.6832840442657471, 'bin': 8001000},\n",
       " {'time': 0.6789257526397705, 'bin': 8101000},\n",
       " {'time': 0.6638426780700684, 'bin': 8201000},\n",
       " {'time': 0.6565630435943604, 'bin': 8301000},\n",
       " {'time': 0.6638438701629639, 'bin': 8401000},\n",
       " {'time': 0.714076042175293, 'bin': 8501000},\n",
       " {'time': 0.8499171733856201, 'bin': 8601000},\n",
       " {'time': 0.7942237854003906, 'bin': 8701000},\n",
       " {'time': 0.8841080665588379, 'bin': 8801000},\n",
       " {'time': 0.7336671352386475, 'bin': 8901000},\n",
       " {'time': 0.7273349761962891, 'bin': 9001000},\n",
       " {'time': 0.8649730682373047, 'bin': 9101000},\n",
       " {'time': 0.7672288417816162, 'bin': 9201000},\n",
       " {'time': 0.7824368476867676, 'bin': 9301000},\n",
       " {'time': 0.9058310985565186, 'bin': 9401000},\n",
       " {'time': 0.7983770370483398, 'bin': 9501000},\n",
       " {'time': 0.8003268241882324, 'bin': 9601000},\n",
       " {'time': 0.8079133033752441, 'bin': 9701000},\n",
       " {'time': 0.9006319046020508, 'bin': 9801000},\n",
       " {'time': 0.8157839775085449, 'bin': 9901000}]"
      ]
     },
     "execution_count": 18,
     "metadata": {},
     "output_type": "execute_result"
    }
   ],
   "source": [
    "import time\n",
    "import numpy as np\n",
    "\n",
    "def sum_of_n(nsamples):\n",
    "    total = 0\n",
    "    for i in range(nsamples):\n",
    "        total += i\n",
    "    return total\n",
    "\n",
    "bins = np.arange(1000, 10_000_000, 100_000)\n",
    "c_results = []\n",
    "\n",
    "for i in bins:\n",
    "    s = time.time()\n",
    "    sum_of_n(i)\n",
    "    e = time.time()\n",
    "    c_time = e - s \n",
    "    c_results.append({'time' : c_time, 'bin' : i})"
   ]
  },
  {
   "cell_type": "markdown",
   "metadata": {},
   "source": [
    "# Numba"
   ]
  },
  {
   "cell_type": "code",
   "execution_count": 30,
   "metadata": {},
   "outputs": [],
   "source": [
    "import numba\n",
    "\n",
    "@numba.jit()\n",
    "def sum_of_n(nsamples):\n",
    "    total = 0\n",
    "    for i in range(nsamples):\n",
    "        total += i\n",
    "    return total\n",
    "\n",
    "bins = np.arange(1000, 10_000_000, 100_000)\n",
    "numba_results = []\n",
    "\n",
    "for i in bins:\n",
    "    s = time.time()\n",
    "    sum_of_n(i)\n",
    "    e = time.time()\n",
    "    numba_time = e - s \n",
    "    numba_results.append({'time' : numba_time, 'bin' : i})"
   ]
  },
  {
   "cell_type": "code",
   "execution_count": 20,
   "metadata": {},
   "outputs": [],
   "source": [
    "import pandas as pd\n",
    "\n",
    "df_c = pd.DataFrame(c_results)\n",
    "df_n = pd.DataFrame(numba_results)"
   ]
  },
  {
   "cell_type": "code",
   "execution_count": 31,
   "metadata": {},
   "outputs": [
    {
     "data": {
      "image/png": "[encoded data removed]",
      "text/plain": [
       "<Figure size 432x288 with 1 Axes>"
      ]
     },
     "metadata": {
      "needs_background": "light"
     },
     "output_type": "display_data"
    }
   ],
   "source": [
    "import matplotlib.pyplot as plt\n",
    "\n",
    "plt.plot(df_c['bin'], df_c['time'], label='without numba')\n",
    "plt.plot(df_n['bin'], df_n['time'], label='with numba')\n",
    "plt.legend()\n",
    "plt.grid()\n",
    "plt.xlabel('N')\n",
    "plt.ylabel('time (sec.)')\n",
    "plt.title('Time elapsed to calculate the sum of the first N numbers')\n",
    "plt.show()"
   ]
  },
  {
   "cell_type": "code",
   "execution_count": 6,
   "metadata": {},
   "outputs": [
    {
     "name": "stdout",
     "output_type": "stream",
     "text": [
      "PyPolars Loading Time = 0.03725385665893555\n"
     ]
    }
   ],
   "source": [
    "import pandas as pd\n",
    "import time\n",
    "\n",
    "s = time.time()\n",
    "df_pandas = pd.read_csv('tweets.csv')\n",
    "e = time.time()\n",
    "pd_time = e - s \n",
    "print(\"Pandas Loading Time = {}\".format(pd_time))"
   ]
  },
  {
   "cell_type": "code",
   "execution_count": null,
   "metadata": {},
   "outputs": [],
   "source": []
  }
 ],
 "metadata": {
  "kernelspec": {
   "display_name": "Python 3",
   "language": "python",
   "name": "python3"
  },
  "language_info": {
   "codemirror_mode": {
    "name": "ipython",
    "version": 3
   },
   "file_extension": ".py",
   "mimetype": "text/x-python",
   "name": "python",
   "nbconvert_exporter": "python",
   "pygments_lexer": "ipython3",
   "version": "3.8.1"
  }
 },
 "nbformat": 4,
 "nbformat_minor": 4
}
