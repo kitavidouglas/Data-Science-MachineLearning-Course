{
 "cells": [
  {
   "cell_type": "markdown",
   "metadata": {},
   "source": [
    "# Generate DataFrame"
   ]
  },
  {
   "cell_type": "code",
   "execution_count": null,
   "metadata": {},
   "outputs": [],
   "source": [
    "import pandas as pd\n",
    "import numpy as np\n",
    "\n",
    "data = []\n",
    "bins = np.arange(1000, 500_000, step=10_000)\n",
    "for N in bins:\n",
    "    for i in range(0, N):\n",
    "        data.append({'index': i, 'value': i})\n",
    "    df = pd.DataFrame(data)\n",
    "    df.to_csv(str(N) + '.csv')"
   ]
  },
  {
   "cell_type": "markdown",
   "metadata": {},
   "source": [
    "# Pandas"
   ]
  },
  {
   "cell_type": "code",
   "execution_count": null,
   "metadata": {},
   "outputs": [],
   "source": [
    "import time\n",
    "\n",
    "pandas_results = []\n",
    "\n",
    "for i in bins:\n",
    "    s = time.time()\n",
    "    df = pd.read_csv(str(i) + '.csv')\n",
    "    e = time.time()\n",
    "    pandas_time = e - s \n",
    "    pandas_results.append({'time' : pandas_time, 'bin' : i})"
   ]
  },
  {
   "cell_type": "markdown",
   "metadata": {},
   "source": [
    "# PySpark"
   ]
  },
  {
   "cell_type": "code",
   "execution_count": null,
   "metadata": {},
   "outputs": [],
   "source": [
    "import findspark\n",
    "#import all the libraries of pyspark.sql\n",
    "from pyspark.sql import *\n",
    "#import SparkContext and SparkConf\n",
    "from pyspark import SparkContext, SparkConf\n",
    "\n",
    "#setup configuration property \n",
    "#set the master URL \n",
    "#set an application name \n",
    "conf = SparkConf().setMaster(\"local\").setAppName(\"sparkproject\")\n",
    "#start spark cluster \n",
    "#if already started then get it else start it \n",
    "sc = SparkContext.getOrCreate(conf=conf)\n",
    "\n",
    "spark = SparkSession.builder.getOrCreate()"
   ]
  },
  {
   "cell_type": "code",
   "execution_count": null,
   "metadata": {},
   "outputs": [],
   "source": [
    "pyspark_results = []\n",
    "\n",
    "for i in bins:\n",
    "    s = time.time()\n",
    "    df = spark.read.csv(str(i) + '.csv',inferSchema =True,header=True)\n",
    "    e = time.time()\n",
    "    pyspark_time = e - s \n",
    "    pyspark_results.append({'time' : pandas_time, 'bin' : i})"
   ]
  },
  {
   "cell_type": "code",
   "execution_count": null,
   "metadata": {},
   "outputs": [],
   "source": [
    "sc.stop()"
   ]
  },
  {
   "cell_type": "code",
   "execution_count": null,
   "metadata": {},
   "outputs": [],
   "source": [
    "df_spark = pd.DataFrame(pyspark_results)\n",
    "df_pandas = pd.DataFrame(pandas_results)"
   ]
  },
  {
   "cell_type": "code",
   "execution_count": null,
   "metadata": {},
   "outputs": [],
   "source": [
    "import matplotlib.pyplot as plt\n",
    "\n",
    "plt.plot(df_spark['bin'], df_spark['time'], label='pandas')\n",
    "plt.plot(df_pandas['bin'], df_pandas['time'], label='pyspark')\n",
    "plt.legend()\n",
    "plt.grid()\n",
    "plt.xlabel('N')\n",
    "plt.ylabel('time (sec.)')\n",
    "plt.title('Time elapsed to load a dataset with N records')\n",
    "plt.show()"
   ]
  },
  {
   "cell_type": "code",
   "execution_count": null,
   "metadata": {},
   "outputs": [],
   "source": []
  }
 ],
 "metadata": {
  "kernelspec": {
   "display_name": "osiris_fo",
   "language": "python",
   "name": "osiris_fo"
  },
  "language_info": {
   "codemirror_mode": {
    "name": "ipython",
    "version": 3
   },
   "file_extension": ".py",
   "mimetype": "text/x-python",
   "name": "python",
   "nbconvert_exporter": "python",
   "pygments_lexer": "ipython3",
   "version": "3.8.1"
  }
 },
 "nbformat": 4,
 "nbformat_minor": 4
}
