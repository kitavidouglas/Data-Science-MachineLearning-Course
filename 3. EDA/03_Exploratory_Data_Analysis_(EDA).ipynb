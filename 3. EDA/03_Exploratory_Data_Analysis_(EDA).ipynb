{
  "cells": [
    {
      "cell_type": "markdown",
      "metadata": {
        "id": "qDhYxBHNQFXZ"
      },
      "source": [
        "Prepared by\n",
        "\n",
        "*Asif Newaz, Lecturer, EEE, IUT*"
      ]
    },
    {
      "cell_type": "markdown",
      "metadata": {
        "id": "d88SoJKzPiI9"
      },
      "source": [
        "# Empezar"
      ]
    },
    {
      "cell_type": "markdown",
      "metadata": {
        "id": "nJM7aceMPiI-"
      },
      "source": [
        "The notebook will walk you through a typical workflow for solving a data science problem.\n",
        "The first step in ML/DS is to understand and analyze the data you have. We will start with EDA (Exploratory Data Analysis) - the process of analyzing and investigating data sets and summarizing their main characteristics. It oftens take the help of data visualization methods for 'visual storytelling'."
      ]
    },
    {
      "cell_type": "markdown",
      "metadata": {
        "id": "nmOSGQT3PiI-"
      },
      "source": [
        "Here, we will work with the titanic dataset as an example. The data is available in kaggle (https://www.kaggle.com/c/titanic)."
      ]
    },
    {
      "cell_type": "markdown",
      "metadata": {
        "_cell_guid": "ea25cdf7-bdbc-3cf1-0737-bc51675e3374",
        "_uuid": "fed5696c67bf55a553d6d04313a77e8c617cad99",
        "id": "hm8w0CIxPiI-"
      },
      "source": [
        "## Question and problem definition\n",
        "\n",
        "> The training set contains samples listing passengers who survived or did not survive the Titanic disaster. The question is - can our model determine based on a given test dataset not containing the survival information, if these passengers in the test dataset survived or not.\n",
        "\n",
        "\n",
        "- On April 15, 1912, during her maiden voyage, the Titanic sank after colliding with an iceberg, killing 1502 out of 2224 passengers and crew. Translated 32% survival rate.\n",
        "- One of the reasons that the shipwreck led to such loss of life was that there were not enough lifeboats for the passengers and crew.\n",
        "- Although there was some element of luck involved in surviving the sinking, some groups of people were more likely to survive than others, such as women, children, and the upper-class.\n"
      ]
    },
    {
      "cell_type": "markdown",
      "metadata": {
        "id": "ZWRbjwqNPiI_"
      },
      "source": [
        "## Workflow\n",
        "\n",
        " 1. Import necessary libraries - pandas, numpy, matplotlib, seaborn\n",
        " 2. Import data using pandas\n",
        " 3. Analyze data using pandas\n",
        " 4. Identify issues in the dataset - missing value, outliers, unrelated features\n",
        " 5. Data visualization\n",
        " 6. Removing irrelevant features\n",
        " 7. convert categorical to numerical\n",
        " 8. missing data handling"
      ]
    },
    {
      "cell_type": "markdown",
      "metadata": {
        "id": "4tFB4IcwPiI_"
      },
      "source": [
        "## **Import Libraries**"
      ]
    },
    {
      "cell_type": "code",
      "execution_count": 1,
      "metadata": {
        "id": "Qg7eVyI5PiI_"
      },
      "outputs": [
        {
          "ename": "ModuleNotFoundError",
          "evalue": "No module named 'pandas'",
          "output_type": "error",
          "traceback": [
            "\u001b[31m---------------------------------------------------------------------------\u001b[39m",
            "\u001b[31mModuleNotFoundError\u001b[39m                       Traceback (most recent call last)",
            "\u001b[36mCell\u001b[39m\u001b[36m \u001b[39m\u001b[32mIn[1]\u001b[39m\u001b[32m, line 2\u001b[39m\n\u001b[32m      1\u001b[39m \u001b[38;5;66;03m# data analysis\u001b[39;00m\n\u001b[32m----> \u001b[39m\u001b[32m2\u001b[39m \u001b[38;5;28;01mimport\u001b[39;00m\u001b[38;5;250m \u001b[39m\u001b[34;01mpandas\u001b[39;00m\u001b[38;5;250m \u001b[39m\u001b[38;5;28;01mas\u001b[39;00m\u001b[38;5;250m \u001b[39m\u001b[34;01mpd\u001b[39;00m\n\u001b[32m      3\u001b[39m \u001b[38;5;28;01mimport\u001b[39;00m\u001b[38;5;250m \u001b[39m\u001b[34;01mnumpy\u001b[39;00m\u001b[38;5;250m \u001b[39m\u001b[38;5;28;01mas\u001b[39;00m\u001b[38;5;250m \u001b[39m\u001b[34;01mnp\u001b[39;00m\n\u001b[32m      4\u001b[39m \u001b[38;5;28;01mimport\u001b[39;00m\u001b[38;5;250m \u001b[39m\u001b[34;01mrandom\u001b[39;00m\u001b[38;5;250m \u001b[39m\u001b[38;5;28;01mas\u001b[39;00m\u001b[38;5;250m \u001b[39m\u001b[34;01mrnd\u001b[39;00m\n",
            "\u001b[31mModuleNotFoundError\u001b[39m: No module named 'pandas'"
          ]
        }
      ],
      "source": [
        "# data analysis\n",
        "import pandas as pd\n",
        "import numpy as np\n",
        "import random as rnd\n",
        "\n",
        "# visualization\n",
        "import seaborn as sns\n",
        "import matplotlib.pyplot as plt"
      ]
    },
    {
      "cell_type": "markdown",
      "metadata": {
        "_cell_guid": "6b5dc743-15b1-aac6-405e-081def6ecca1",
        "_uuid": "2d307b99ee3d19da3c1cddf509ed179c21dec94a",
        "id": "Eg-ZqXRVPiI_"
      },
      "source": [
        "## **Import data**\n",
        "\n",
        "we will use the Python Pandas package to manage the datasets. The data is already provided as training and test set. If not, you can randomly divide the data in a 80:20 ratio using sklearn library (we will cover that in the next lab)."
      ]
    },
    {
      "cell_type": "code",
      "execution_count": null,
      "metadata": {
        "_cell_guid": "e7319668-86fe-8adc-438d-0eef3fd0a982",
        "_uuid": "13f38775c12ad6f914254a08f0d1ef948a2bd453",
        "id": "eTH6ztQoPiJA"
      },
      "outputs": [],
      "source": [
        "train_df = pd.read_csv('titanic_train.csv')\n",
        "test_df = pd.read_csv('titanic_test.csv')"
      ]
    },
    {
      "cell_type": "code",
      "execution_count": null,
      "metadata": {
        "colab": {
          "base_uri": "https://localhost:8080/",
          "height": 458
        },
        "id": "DIxuF27JPiJA",
        "outputId": "1599583c-aaf9-4a93-c0a5-aa977b7ed512"
      },
      "outputs": [],
      "source": [
        "train_df"
      ]
    },
    {
      "cell_type": "code",
      "execution_count": null,
      "metadata": {
        "colab": {
          "base_uri": "https://localhost:8080/",
          "height": 206
        },
        "id": "YtWZlJVEPiJA",
        "outputId": "8e4041d7-3c24-4146-f1ec-7ca4228c89d1"
      },
      "outputs": [],
      "source": [
        "test_df.head()"
      ]
    },
    {
      "cell_type": "markdown",
      "metadata": {
        "id": "77wVCibbPiJA"
      },
      "source": [
        "You can see the number of samples and features/columns in the dataset automatically. Both training and test set have the same number of features but different number of examples. Test data do not have the 'survived' column - which is our target variable."
      ]
    },
    {
      "cell_type": "markdown",
      "metadata": {
        "id": "hL0Z4s-MZjeQ"
      },
      "source": [
        "# Data Analysis"
      ]
    },
    {
      "cell_type": "markdown",
      "metadata": {
        "_cell_guid": "3d6188f3-dc82-8ae6-dabd-83e28fcbf10d",
        "_uuid": "79282222056237a52bbbb1dbd831f057f1c23d69",
        "id": "ijQIs_l-PiJA"
      },
      "source": [
        "## Analyze the data\n",
        "\n",
        "Pandas can help in understanding the dataset. For that, try to begin with the following questions -\n",
        "\n",
        "\n",
        "**Which features are available in the dataset?**\n"
      ]
    },
    {
      "cell_type": "code",
      "execution_count": null,
      "metadata": {
        "_cell_guid": "ce473d29-8d19-76b8-24a4-48c217286e42",
        "_uuid": "ef106f38a00e162a80c523778af6dcc778ccc1c2",
        "colab": {
          "base_uri": "https://localhost:8080/"
        },
        "id": "eGm1ep-BPiJA",
        "outputId": "08daac02-d147-4c9e-fb59-638995f46660"
      },
      "outputs": [],
      "source": [
        "train_df.columns.values"
      ]
    },
    {
      "cell_type": "markdown",
      "metadata": {
        "id": "x1mf_eeePiJA"
      },
      "source": [
        "you can see the result is a numpy array object. This is because the pandas library is built on top of numpy.\n",
        "\n",
        "The feature are described here - https://www.kaggle.com/c/titanic/data"
      ]
    },
    {
      "cell_type": "markdown",
      "metadata": {
        "id": "M06maN1KPiJA"
      },
      "source": [
        "**What are the data types for various features?**"
      ]
    },
    {
      "cell_type": "code",
      "execution_count": null,
      "metadata": {
        "colab": {
          "base_uri": "https://localhost:8080/",
          "height": 460
        },
        "id": "6qwzzL2jPiJA",
        "outputId": "98f0170b-779b-41c8-b611-30e9df397880"
      },
      "outputs": [],
      "source": [
        "train_df.dtypes"
      ]
    },
    {
      "cell_type": "markdown",
      "metadata": {
        "id": "GNYP5as8V6oX"
      },
      "source": [
        "We will need this information later. As you can see, there are -\n",
        "\n",
        "- Seven features are integer or floats.\n",
        "- Five features are strings (object)."
      ]
    },
    {
      "cell_type": "markdown",
      "metadata": {
        "_cell_guid": "cd19a6f6-347f-be19-607b-dca950590b37",
        "_uuid": "1d7acf42af29a63bc038f14eded24e8b8146f541",
        "id": "8SLglsEoPiJB"
      },
      "source": [
        "**Which features are categorical?**\n",
        "\n",
        "These values classify the samples into sets of similar samples.\n",
        "\n",
        "- Categorical: Survived, Sex, and Embarked. Ordinal: Pclass.\n",
        "\n",
        "**Which features are numerical?**\n",
        "\n",
        "- Continous: Age, Fare. Discrete: SibSp, Parch."
      ]
    },
    {
      "cell_type": "markdown",
      "metadata": {
        "id": "ISo8GLACWLbs"
      },
      "source": [
        "**How many passengers were male and female?**"
      ]
    },
    {
      "cell_type": "code",
      "execution_count": null,
      "metadata": {
        "colab": {
          "base_uri": "https://localhost:8080/",
          "height": 178
        },
        "id": "S-vxfyZhPiJB",
        "outputId": "b5505580-4e4a-4ef8-ad9f-e307e5fe6ada"
      },
      "outputs": [],
      "source": [
        "train_df['Sex'].value_counts()"
      ]
    },
    {
      "cell_type": "code",
      "execution_count": null,
      "metadata": {
        "colab": {
          "base_uri": "https://localhost:8080/",
          "height": 335
        },
        "id": "oZgMRJYdPiJB",
        "outputId": "4e6d6f79-4181-460e-c08c-88312ccb9b64"
      },
      "outputs": [],
      "source": [
        "train_df['SibSp'].value_counts()\n",
        "# no of siblings and spouse"
      ]
    },
    {
      "cell_type": "code",
      "execution_count": null,
      "metadata": {
        "colab": {
          "base_uri": "https://localhost:8080/",
          "height": 335
        },
        "id": "pzL2zPm9PiJB",
        "outputId": "a55f6a3a-7e19-416b-fd17-ee6e992a18e5"
      },
      "outputs": [],
      "source": [
        "train_df['Parch'].value_counts()\n",
        "# no of parents and children"
      ]
    },
    {
      "cell_type": "code",
      "execution_count": null,
      "metadata": {
        "colab": {
          "base_uri": "https://localhost:8080/",
          "height": 209
        },
        "id": "Fh-BhQe-PiJB",
        "outputId": "f96ea08f-623a-49ff-cfce-acabe035f941"
      },
      "outputs": [],
      "source": [
        "train_df['Pclass'].value_counts()\n",
        "# passenger class"
      ]
    },
    {
      "cell_type": "code",
      "execution_count": null,
      "metadata": {
        "colab": {
          "base_uri": "https://localhost:8080/",
          "height": 209
        },
        "id": "GaJlpZDkPiJB",
        "outputId": "1d47e3c7-dfec-4a1e-8d0e-3c5bd6be6046"
      },
      "outputs": [],
      "source": [
        "train_df['Embarked'].value_counts()\n",
        "# Port of Embarkation; C = Cherbourg, Q = Queenstown, S = Southampton"
      ]
    },
    {
      "cell_type": "code",
      "execution_count": null,
      "metadata": {
        "colab": {
          "base_uri": "https://localhost:8080/",
          "height": 178
        },
        "id": "2N785MwWPiJB",
        "outputId": "979aa43a-85dc-45af-b67c-b6ac597949e3"
      },
      "outputs": [],
      "source": [
        "train_df['Survived'].value_counts()\n",
        "#549 people did not survive"
      ]
    },
    {
      "cell_type": "markdown",
      "metadata": {
        "_cell_guid": "97f4e6f8-2fea-46c4-e4e8-b69062ee3d46",
        "_uuid": "c34fa51a38336d97d5f6a184908cca37daebd584",
        "id": "WYR14WoIPiJB"
      },
      "source": [
        "**Which features are mixed data types?**\n",
        "\n",
        "Numerical, alphanumeric data within same feature. These requires correction.\n",
        "\n",
        "- Ticket is a mix of numeric and alphanumeric data types. Cabin is alphanumeric.\n",
        "\n",
        "**Which features may contain errors or typos?**\n",
        "\n",
        "This is harder to review for a large dataset, however reviewing a few samples from a smaller dataset may just tell us outright, which features may require correcting.\n"
      ]
    },
    {
      "cell_type": "markdown",
      "metadata": {
        "_cell_guid": "8bfe9610-689a-29b2-26ee-f67cd4719079",
        "_uuid": "699c52b7a8d076ccd5ea5bc5d606313c558a6e8e",
        "id": "Q_-JhhKqPiJB"
      },
      "source": [
        "**Which features contain blank, null or empty values?**\n",
        "\n",
        "These will require correcting."
      ]
    },
    {
      "cell_type": "code",
      "execution_count": null,
      "metadata": {
        "colab": {
          "base_uri": "https://localhost:8080/",
          "height": 460
        },
        "id": "faiLkNoePiJB",
        "outputId": "b1e49c0b-e1a0-4e4c-939d-d75b60fd298b"
      },
      "outputs": [],
      "source": [
        "train_df.isnull().sum()"
      ]
    },
    {
      "cell_type": "code",
      "execution_count": null,
      "metadata": {
        "colab": {
          "base_uri": "https://localhost:8080/",
          "height": 429
        },
        "id": "Bzwo6eNtPiJB",
        "outputId": "41287474-157a-46ab-81d8-4a81a95f2815"
      },
      "outputs": [],
      "source": [
        "test_df.isnull().sum()"
      ]
    },
    {
      "cell_type": "markdown",
      "metadata": {
        "_cell_guid": "859102e1-10df-d451-2649-2d4571e5f082",
        "_uuid": "2b7c205bf25979e3242762bfebb0e3eb2fd63010",
        "id": "ajDENLDyPiJC"
      },
      "source": [
        "**What is the distribution of numerical feature values across the samples?**\n"
      ]
    },
    {
      "cell_type": "code",
      "execution_count": null,
      "metadata": {
        "_cell_guid": "58e387fe-86e4-e068-8307-70e37fe3f37b",
        "_uuid": "380251a1c1e0b89147d321968dc739b6cc0eecf2",
        "colab": {
          "base_uri": "https://localhost:8080/",
          "height": 300
        },
        "id": "mrLQJgZnPiJC",
        "outputId": "6d8eccca-c290-4f40-8ba0-6d9a9f2c85ce"
      },
      "outputs": [],
      "source": [
        "train_df.describe()"
      ]
    },
    {
      "cell_type": "markdown",
      "metadata": {
        "id": "0TpSfWI_X6a8"
      },
      "source": [
        "This helps us determine, among other early insights, how representative is the training dataset of the actual problem domain.\n",
        "\n",
        "- Total samples are 891\n",
        "- Survived is a categorical feature with 0 or 1 values.\n",
        "- Around 38% samples survived representative of the actual survival rate at 32%.\n",
        "- Most passengers (> 75%) did not travel with parents or children.\n",
        "- Nearly 30% of the passengers had siblings and/or spouse aboard.\n",
        "- Fares varied significantly with few passengers (<1%) paying as high as $512.\n",
        "- Few elderly passengers (<1%) within age range 65-80."
      ]
    },
    {
      "cell_type": "markdown",
      "metadata": {
        "_cell_guid": "5462bc60-258c-76bf-0a73-9adc00a2f493",
        "_uuid": "33bbd1709db622978c0c5879e7c5532d4734ade0",
        "id": "GdR11Z-xPiJC"
      },
      "source": [
        "**What is the distribution of categorical features?**\n"
      ]
    },
    {
      "cell_type": "code",
      "execution_count": null,
      "metadata": {
        "_cell_guid": "8066b378-1964-92e8-1352-dcac934c6af3",
        "_uuid": "daa8663f577f9c1a478496cf14fe363570457191",
        "colab": {
          "base_uri": "https://localhost:8080/",
          "height": 175
        },
        "id": "hA-cDeT3PiJC",
        "outputId": "d6482150-1899-449f-c4d4-e17a4ec7c1db"
      },
      "outputs": [],
      "source": [
        "train_df.describe(include=['O'])\n",
        "# https://pandas.pydata.org/docs/reference/api/pandas.DataFrame.describe.html"
      ]
    },
    {
      "cell_type": "markdown",
      "metadata": {
        "id": "SxdBNCaEYNDo"
      },
      "source": [
        "- Names are unique across the dataset (count=unique=891)\n",
        "- Sex variable as two possible values with 65% male (top=male, freq=577/count=891).\n",
        "- Cabin values have several dupicates across samples. Alternatively several passengers shared a cabin.\n",
        "- Embarked takes three possible values. S port used by most passengers (top=S)"
      ]
    },
    {
      "cell_type": "markdown",
      "metadata": {
        "_cell_guid": "2cb22b88-937d-6f14-8b06-ea3361357889",
        "_uuid": "c1d35ebd89a0cf7d7b409470bbb9ecaffd2a9680",
        "id": "oI4i5CPLPiJC"
      },
      "source": [
        "## Assumtions based on data analysis\n",
        "\n",
        "We arrive at following assumptions based on data analysis done so far. We may validate these assumptions further before taking appropriate actions.\n",
        "\n",
        "**Correlation analysis**\n",
        "\n",
        "We want to know how well does each feature correlate with Survival.\n",
        "\n",
        "**Missing data handling**\n",
        "\n",
        "1. We may want to complete Age feature as it is definitely correlated to survival.\n",
        "2. We may want to complete the Embarked feature as it has only two missing entries.\n",
        "\n",
        "**Correcting**\n",
        "\n",
        "1. Cabin feature may be dropped as it is highly incomplete or contains many null values both in training and test dataset.\n",
        "2. PassengerId may be dropped from training dataset as it does not contribute to survival.\n",
        "3. Name feature is relatively non-standard, may not contribute directly to survival, so maybe dropped.\n",
        "\n",
        "**Creating**\n",
        "\n",
        "1. We may want to create a new feature called Family based on Parch and SibSp to get total count of family members on board.\n",
        "2. We may want to create new feature for Age bands. This turns a continous numerical feature into an ordinal categorical feature.\n",
        "3. We may also want to create a Fare range feature if it helps our analysis.\n"
      ]
    },
    {
      "cell_type": "markdown",
      "metadata": {
        "_cell_guid": "6db63a30-1d86-266e-2799-dded03c45816",
        "_uuid": "946ee6ca01a3e4eecfa373ca00f88042b683e2ad",
        "id": "x2_sOv98PiJC"
      },
      "source": [
        "## Analysis using pivot tables\n",
        "\n",
        "To confirm some of the observations and assumptions as well as identify groupwise pattern, we can utilize pivot tables.\n",
        "we can look at the group relations with the target feature (survived) for the variables like - categorical (Sex), ordinal (Pclass) or discrete (SibSp, Parch) type.\n",
        "\n",
        "- **Sex** We can see that Sex=female had very high survival rate at 74%.\n",
        "- **SibSp and Parch** These features have zero correlation for certain values. It may be best to derive a feature or a set of features from these individual features."
      ]
    },
    {
      "cell_type": "code",
      "execution_count": null,
      "metadata": {
        "colab": {
          "base_uri": "https://localhost:8080/",
          "height": 175
        },
        "id": "TTVO8AnZPiJC",
        "outputId": "b29d1e0a-f83f-4a63-d8b8-95c2ce216bfd"
      },
      "outputs": [],
      "source": [
        "train_df[['Pclass', 'Survived']].groupby(['Pclass']).mean()"
      ]
    },
    {
      "cell_type": "code",
      "execution_count": null,
      "metadata": {
        "_cell_guid": "0964832a-a4be-2d6f-a89e-63526389cee9",
        "_uuid": "97a845528ce9f76e85055a4bb9e97c27091f6aa1",
        "colab": {
          "base_uri": "https://localhost:8080/",
          "height": 143
        },
        "id": "z7bBUXtYPiJC",
        "outputId": "b2d899a4-9226-4340-b576-80e7dcf7d7d0"
      },
      "outputs": [],
      "source": [
        "train_df[['Pclass', 'Survived']].groupby(['Pclass'], as_index=False).mean().sort_values(by='Survived', ascending=False)"
      ]
    },
    {
      "cell_type": "code",
      "execution_count": null,
      "metadata": {
        "_cell_guid": "68908ba6-bfe9-5b31-cfde-6987fc0fbe9a",
        "_uuid": "00a2f2bca094c5984e6a232c730c8b232e7e20bb",
        "colab": {
          "base_uri": "https://localhost:8080/",
          "height": 112
        },
        "id": "YSkxmZ3wPiJC",
        "outputId": "f8e41acb-f949-4d6d-cf2c-970d1e4fc832",
        "scrolled": true
      },
      "outputs": [],
      "source": [
        "train_df[[\"Sex\", \"Survived\"]].groupby(['Sex'], as_index=False).mean().sort_values(by='Survived', ascending=False)"
      ]
    },
    {
      "cell_type": "code",
      "execution_count": null,
      "metadata": {
        "_cell_guid": "01c06927-c5a6-342a-5aa8-2e486ec3fd7c",
        "_uuid": "a8f7a16c54417dcd86fc48aeef0c4b240d47d71b",
        "colab": {
          "base_uri": "https://localhost:8080/",
          "height": 269
        },
        "id": "ehYVTe39PiJC",
        "outputId": "b56d0a8f-3b04-4cd8-b1fa-c9f8503982c9"
      },
      "outputs": [],
      "source": [
        "train_df[[\"SibSp\", \"Survived\"]].groupby(['SibSp'], as_index=False).mean().sort_values(by='Survived', ascending=False)"
      ]
    },
    {
      "cell_type": "code",
      "execution_count": null,
      "metadata": {
        "_cell_guid": "e686f98b-a8c9-68f8-36a4-d4598638bbd5",
        "_uuid": "5d953a6779b00b7f3794757dec8744a03162c8fd",
        "colab": {
          "base_uri": "https://localhost:8080/",
          "height": 269
        },
        "id": "H372ikFBPiJC",
        "outputId": "5d68e6f7-137c-4946-b6fa-b072679a56d5"
      },
      "outputs": [],
      "source": [
        "train_df[[\"Parch\", \"Survived\"]].groupby(['Parch'], as_index=False).mean().sort_values(by='Survived', ascending=False)"
      ]
    },
    {
      "cell_type": "markdown",
      "metadata": {
        "id": "Hex1A9B_afQQ"
      },
      "source": [
        "# Data Visualization"
      ]
    },
    {
      "cell_type": "markdown",
      "metadata": {
        "id": "MRESvqfjbAQt"
      },
      "source": [
        "**Analyze by visualizing data**\n",
        "\n",
        "we can use visualization techniques for analyzing the data. Visualization is a powerful tool to understand the data, the relations between feature variables. We can obtain valuable insights regarding our data through a wide variety of visualization techniques.\n",
        "\n",
        "\"DataViz\" is a widely utilized phenomenon in almost every sectors for its powerful ability to convey messages to anyone not having domain knowledge."
      ]
    },
    {
      "cell_type": "code",
      "execution_count": null,
      "metadata": {
        "colab": {
          "base_uri": "https://localhost:8080/",
          "height": 1000
        },
        "id": "afMK7XmFahq0",
        "outputId": "370a8eb1-8c59-4136-d9b8-f32da610826d"
      },
      "outputs": [],
      "source": [
        "train_df\n",
        "# you can see some charts directly using the tool at the right hand side of the dataframe"
      ]
    },
    {
      "cell_type": "markdown",
      "metadata": {
        "_cell_guid": "0d43550e-9eff-3859-3568-8856570eff76",
        "_uuid": "5c6204d01f5a9040cf0bb7c678686ae48daa201f",
        "id": "leJbvfL7PiJF"
      },
      "source": [
        "\n",
        "## Correlating numerical features\n",
        "\n",
        "Let us start by understanding correlations between numerical features and our solution goal (Survived).\n",
        "\n",
        "A histogram chart is useful for analyzing continous numerical variables like Age where banding or ranges will help identify useful patterns. The histogram can indicate distribution of samples using automatically defined bins or equally ranged bands. This helps us answer questions relating to specific bands (Did infants have better survival rate?)"
      ]
    },
    {
      "cell_type": "code",
      "execution_count": null,
      "metadata": {
        "id": "DeIhrCigPiJF"
      },
      "outputs": [],
      "source": [
        "%matplotlib inline"
      ]
    },
    {
      "cell_type": "code",
      "execution_count": null,
      "metadata": {
        "_cell_guid": "50294eac-263a-af78-cb7e-3778eb9ad41f",
        "_uuid": "d3a1fa63e9dd4f8a810086530a6363c94b36d030",
        "colab": {
          "base_uri": "https://localhost:8080/",
          "height": 324
        },
        "id": "vTYA1eBxPiJF",
        "outputId": "5004e060-92d2-42c7-bc2a-9ac91af13732"
      },
      "outputs": [],
      "source": [
        "g = sns.FacetGrid(train_df, col='Survived')\n",
        "g.map(plt.hist, 'Age', bins=20)"
      ]
    },
    {
      "cell_type": "markdown",
      "metadata": {
        "id": "nb0wqJnjZ_NY"
      },
      "source": [
        "**Observations.**\n",
        "\n",
        "- Infants (Age <=4) had high survival rate.\n",
        "- Oldest passengers (Age = 80) survived.\n",
        "- Large number of 15-25 year olds did not survive.\n",
        "- Most passengers are in 15-35 age range.\n",
        "\n",
        "**Decisions.**\n",
        "\n",
        "This simple analysis confirms our assumptions as decisions for subsequent workflow stages.\n",
        "\n",
        "- We should consider Age in our model training.\n",
        "- Complete the Age feature for null values.\n",
        "- We may band age groups (optional)"
      ]
    },
    {
      "cell_type": "markdown",
      "metadata": {
        "_cell_guid": "87096158-4017-9213-7225-a19aea67a800",
        "_uuid": "892259f68c2ecf64fd258965cff1ecfe77dd73a9",
        "id": "SwNU9zkpPiJF"
      },
      "source": [
        "### Correlating numerical and ordinal features\n",
        "\n",
        "We can combine multiple features for identifying correlations using a single plot. This can be done with numerical and categorical features which have numeric values."
      ]
    },
    {
      "cell_type": "code",
      "execution_count": null,
      "metadata": {
        "_cell_guid": "916fdc6b-0190-9267-1ea9-907a3d87330d",
        "_uuid": "4f5bcfa97c8a72f8b413c786954f3a68e135e05a",
        "colab": {
          "base_uri": "https://localhost:8080/",
          "height": 907
        },
        "id": "rOVFAXKgPiJG",
        "outputId": "a1eef486-7c9c-4baa-f536-d8984431feb3"
      },
      "outputs": [],
      "source": [
        "# grid = sns.FacetGrid(train_df, col='Pclass', hue='Survived')\n",
        "grid = sns.FacetGrid(train_df, col='Survived', row='Pclass',  aspect=1.6)\n",
        "grid.map(plt.hist, 'Age', alpha=.5, bins=20)\n",
        "grid.add_legend();"
      ]
    },
    {
      "cell_type": "markdown",
      "metadata": {
        "id": "leUxsvkZaYBw"
      },
      "source": [
        "**Observations.**\n",
        "\n",
        "- Pclass=3 had most passengers, however most did not survive.\n",
        "- Infant passengers in Pclass=2 and Pclass=3 mostly survived.\n",
        "- Most passengers in Pclass=1 survived.\n",
        "- Pclass varies in terms of Age distribution of passengers.\n",
        "\n",
        "**Decisions.**\n",
        "\n",
        "- Consider Pclass for model training."
      ]
    },
    {
      "cell_type": "markdown",
      "metadata": {
        "_cell_guid": "6b3f73f4-4600-c1ce-34e0-bd7d9eeb074a",
        "_uuid": "fd824f937dcb80edd4117a2927cc0d7f99d934b8",
        "id": "e0S-MR4LPiJG"
      },
      "source": [
        "### Correlating categorical and numerical features\n",
        "\n",
        "We may also want to correlate categorical features (with non-numeric values) and numeric features. We can consider correlating Embarked (Categorical non-numeric), Sex (Categorical non-numeric), Fare (Numeric continuous), with Survived (Categorical numeric).\n"
      ]
    },
    {
      "cell_type": "code",
      "execution_count": null,
      "metadata": {
        "_cell_guid": "a21f66ac-c30d-f429-cc64-1da5460d16a9",
        "_uuid": "c8fd535ac1bc90127369027c2101dbc939db118e",
        "colab": {
          "base_uri": "https://localhost:8080/",
          "height": 979
        },
        "id": "8QtaX8jRPiJG",
        "outputId": "7cf53c76-ad25-46fb-b3cf-5345d0788f4c"
      },
      "outputs": [],
      "source": [
        "# grid = sns.FacetGrid(train_df, col='Embarked', hue='Survived', palette={0: 'k', 1: 'w'})\n",
        "grid = sns.FacetGrid(train_df, row='Embarked', col='Survived', aspect=1.6)\n",
        "grid.map(sns.barplot, 'Sex', 'Fare', alpha=.5)\n",
        "grid.add_legend()"
      ]
    },
    {
      "cell_type": "markdown",
      "metadata": {
        "id": "cXWMBW8YbNp5"
      },
      "source": [
        "\n",
        "**Observations.**\n",
        "\n",
        "- Higher fare paying passengers had better survival.\n",
        "- Port of embarkation correlates with survival rates.\n",
        "\n",
        "**Decisions.**\n",
        "\n",
        "- Consider banding Fare feature (optional)"
      ]
    },
    {
      "cell_type": "markdown",
      "metadata": {
        "id": "hQ_CskFlbcII"
      },
      "source": [
        "# Feature Engineering"
      ]
    },
    {
      "cell_type": "markdown",
      "metadata": {
        "_cell_guid": "cfac6291-33cc-506e-e548-6cad9408623d",
        "_uuid": "73a9111a8dc2a6b8b6c78ef628b6cae2a63fc33f",
        "id": "B1HtQgakPiJG"
      },
      "source": [
        "### Dropping features\n",
        "\n",
        "We need to remove unimportant/irrelevant features to work on the dataset. By dropping features, we also have fewer data points. This speeds up our notebook and eases the analysis.\n",
        "\n",
        "Based on our assumptions and decisions we want to drop the Cabin (too many missing), PassengerID (irrelevant), Name (unimportant), and Ticket (irrelevant) features.\n",
        "\n",
        "Note that where applicable we perform operations on both training and testing datasets together to stay consistent."
      ]
    },
    {
      "cell_type": "code",
      "execution_count": null,
      "metadata": {
        "colab": {
          "base_uri": "https://localhost:8080/",
          "height": 241
        },
        "id": "pVJW7FXoPiJG",
        "outputId": "71f660b8-93ac-46bb-99c0-242f9098deaa"
      },
      "outputs": [],
      "source": [
        "train_df.head()"
      ]
    },
    {
      "cell_type": "code",
      "execution_count": null,
      "metadata": {
        "id": "xOPCSskBPiJG",
        "scrolled": true
      },
      "outputs": [],
      "source": [
        "train_df = train_df.drop(['PassengerId', 'Name', 'Ticket', 'Cabin'], axis=1)"
      ]
    },
    {
      "cell_type": "code",
      "execution_count": null,
      "metadata": {
        "colab": {
          "base_uri": "https://localhost:8080/",
          "height": 206
        },
        "id": "5wfRYdmMPiJG",
        "outputId": "88c6b0ae-e7ab-4217-9ca1-b0128b2dfe38"
      },
      "outputs": [],
      "source": [
        "train_df.head()"
      ]
    },
    {
      "cell_type": "code",
      "execution_count": null,
      "metadata": {
        "colab": {
          "base_uri": "https://localhost:8080/",
          "height": 423
        },
        "id": "GDq0rg8MPiJH",
        "outputId": "d782cc62-8bb6-4d8e-addb-e6efc409e31f"
      },
      "outputs": [],
      "source": [
        "test_df = test_df.drop(['PassengerId', 'Name', 'Ticket', 'Cabin'], axis=1)\n",
        "test_df"
      ]
    },
    {
      "cell_type": "markdown",
      "metadata": {
        "_cell_guid": "2c8e84bb-196d-bd4a-4df9-f5213561b5d3",
        "_uuid": "a1ac66c79b279d94860e66996d3d8dba801a6d9a",
        "id": "ehQxcrzAPiJH"
      },
      "source": [
        "### Converting a categorical feature\n",
        "\n",
        "we can convert features which contain strings to numerical values. This is required by most model algorithms. Doing so will also help us in achieving the feature completing goal.\n",
        "\n",
        "Let us start by converting Sex feature to a new feature called Gender where female=1 and male=0."
      ]
    },
    {
      "cell_type": "code",
      "execution_count": null,
      "metadata": {
        "_cell_guid": "c20c1df2-157c-e5a0-3e24-15a828095c96",
        "_uuid": "840498eaee7baaca228499b0a5652da9d4edaf37",
        "colab": {
          "base_uri": "https://localhost:8080/",
          "height": 206
        },
        "id": "LqUUsqoqPiJH",
        "outputId": "90bf7b4a-9197-4e76-d506-f4f38b252500"
      },
      "outputs": [],
      "source": [
        "train_df['Sex'] = train_df['Sex'].map( {'female': 1, 'male': 0} ).astype(int)\n",
        "train_df.head()"
      ]
    },
    {
      "cell_type": "code",
      "execution_count": null,
      "metadata": {
        "colab": {
          "base_uri": "https://localhost:8080/",
          "height": 206
        },
        "id": "kgYTsUTNPiJH",
        "outputId": "34c5d2bf-84e6-410c-b189-a4b4e6150b47"
      },
      "outputs": [],
      "source": [
        "test_df['Sex'] = test_df['Sex'].map( {'female': 1, 'male': 0} ).astype(int)\n",
        "test_df.head()"
      ]
    },
    {
      "cell_type": "markdown",
      "metadata": {
        "id": "avKlXreNPiJH"
      },
      "source": [
        "**Class Task** -> Do the same for Embarked feature"
      ]
    },
    {
      "cell_type": "code",
      "execution_count": null,
      "metadata": {
        "colab": {
          "base_uri": "https://localhost:8080/",
          "height": 519
        },
        "id": "3dzeRznsPiJH",
        "outputId": "103af0e5-5af3-4846-86b2-867f2150957f"
      },
      "outputs": [],
      "source": [
        "train_df['Embarked'] = train_df['Embarked'].map( {'S': 1, 'C': 0, 'Q':2} )\n",
        "train_df.head(15)"
      ]
    },
    {
      "cell_type": "code",
      "execution_count": null,
      "metadata": {
        "colab": {
          "base_uri": "https://localhost:8080/",
          "height": 206
        },
        "id": "jRq-PA-4PiJH",
        "outputId": "048568ae-08fd-4e09-9f1f-04a58273d837"
      },
      "outputs": [],
      "source": [
        "test_df['Embarked'] = test_df['Embarked'].map( {'S': 1, 'C': 0, 'Q':2} )\n",
        "test_df.tail()"
      ]
    },
    {
      "cell_type": "markdown",
      "metadata": {
        "id": "jYEQpdGccTqu"
      },
      "source": [
        "# Missing data handling"
      ]
    },
    {
      "cell_type": "code",
      "execution_count": null,
      "metadata": {
        "colab": {
          "base_uri": "https://localhost:8080/",
          "height": 335
        },
        "id": "WpbyTuLRPiJH",
        "outputId": "6f0b0bb0-d640-485b-d27d-df3288c828f7"
      },
      "outputs": [],
      "source": [
        "train_df.isnull().sum()"
      ]
    },
    {
      "cell_type": "code",
      "execution_count": null,
      "metadata": {
        "colab": {
          "base_uri": "https://localhost:8080/",
          "height": 303
        },
        "id": "gRxWhYddPiJI",
        "outputId": "b346552d-5a9a-4794-baac-cafddc9a14fc"
      },
      "outputs": [],
      "source": [
        "test_df.isnull().sum()"
      ]
    },
    {
      "cell_type": "markdown",
      "metadata": {
        "id": "jsHgTG38PiJI"
      },
      "source": [
        "The process is called imputation. There are different ways to impute missing entries which can be broadly classified as univariate and mutivariate techniques.\n",
        "https://scikit-learn.org/stable/modules/impute.html"
      ]
    },
    {
      "cell_type": "code",
      "execution_count": null,
      "metadata": {
        "id": "XrCgQGLDPiJI"
      },
      "outputs": [],
      "source": [
        "from sklearn.impute import SimpleImputer\n",
        "imp = SimpleImputer(missing_values=np.nan, strategy='mean')"
      ]
    },
    {
      "cell_type": "code",
      "execution_count": null,
      "metadata": {
        "id": "euoic5soPiJI"
      },
      "outputs": [],
      "source": [
        "train_df_2=imp.fit_transform(train_df)"
      ]
    },
    {
      "cell_type": "code",
      "execution_count": null,
      "metadata": {
        "colab": {
          "base_uri": "https://localhost:8080/"
        },
        "id": "jxPsavngPiJI",
        "outputId": "4a5eb96f-7b62-4d7d-cfee-2aa70e758786"
      },
      "outputs": [],
      "source": [
        "train_df_2"
      ]
    },
    {
      "cell_type": "code",
      "execution_count": null,
      "metadata": {
        "colab": {
          "base_uri": "https://localhost:8080/",
          "height": 141
        },
        "id": "W5QqFTn0PiJI",
        "outputId": "873e6e1c-c443-4386-8e3a-aef86356348e",
        "scrolled": true
      },
      "outputs": [],
      "source": [
        "train_df_2.isnull().sum()"
      ]
    },
    {
      "cell_type": "code",
      "execution_count": null,
      "metadata": {
        "colab": {
          "base_uri": "https://localhost:8080/",
          "height": 423
        },
        "id": "tf74AdabPiJI",
        "outputId": "bbbaa15b-304d-4ded-b17c-5757d2a84d0f"
      },
      "outputs": [],
      "source": [
        "train_df_3= pd.DataFrame(train_df_2)\n",
        "train_df_3"
      ]
    },
    {
      "cell_type": "code",
      "execution_count": null,
      "metadata": {
        "colab": {
          "base_uri": "https://localhost:8080/",
          "height": 335
        },
        "id": "36R_vV1GPiJI",
        "outputId": "93b34906-d0df-493a-ebd9-6bd38d4f8147"
      },
      "outputs": [],
      "source": [
        "train_df_3.isnull().sum()"
      ]
    },
    {
      "cell_type": "markdown",
      "metadata": {
        "id": "uV8q1bAuPiJJ"
      },
      "source": [
        "You can see the column names are missing. How to add column names?\n",
        "\n",
        "https://pandas.pydata.org/docs/reference/api/pandas.DataFrame.html"
      ]
    },
    {
      "cell_type": "markdown",
      "metadata": {
        "id": "zf8UW6WVPiJG"
      },
      "source": [
        "# Correlation analysis"
      ]
    },
    {
      "cell_type": "code",
      "execution_count": null,
      "metadata": {
        "colab": {
          "base_uri": "https://localhost:8080/",
          "height": 331
        },
        "id": "3vTajEC-cs89",
        "outputId": "32ee2fc9-97c9-401b-f1df-dcbc679cebec"
      },
      "outputs": [],
      "source": [
        "train_df.corr()"
      ]
    },
    {
      "cell_type": "code",
      "execution_count": null,
      "metadata": {
        "colab": {
          "base_uri": "https://localhost:8080/",
          "height": 1000
        },
        "id": "iAWze9sVPiJG",
        "outputId": "2379abde-2f6c-4263-96f4-e27d68a1abbc"
      },
      "outputs": [],
      "source": [
        "plt.figure(figsize=(12,12))\n",
        "sns.heatmap(train_df.corr(), annot=True)"
      ]
    },
    {
      "cell_type": "markdown",
      "metadata": {
        "id": "DcypzboBcdsM"
      },
      "source": [
        "# Extraa"
      ]
    },
    {
      "cell_type": "markdown",
      "metadata": {
        "_cell_guid": "1c237b76-d7ac-098f-0156-480a838a64a9",
        "_uuid": "e3d4a2040c053fbd0486c8cfc4fec3224bd3ebb3",
        "id": "4rklBSzfPiJJ"
      },
      "source": [
        "### Create new feature combining existing features\n",
        "\n",
        "We can create a new feature for FamilySize which combines Parch and SibSp. This will enable us to drop Parch and SibSp from our datasets."
      ]
    },
    {
      "cell_type": "code",
      "execution_count": null,
      "metadata": {
        "_cell_guid": "7e6c04ed-cfaa-3139-4378-574fd095d6ba",
        "_uuid": "33d1236ce4a8ab888b9fac2d5af1c78d174b32c7",
        "colab": {
          "base_uri": "https://localhost:8080/",
          "height": 423
        },
        "id": "E2LNCEZNPiJJ",
        "outputId": "84cf6159-e86d-4d45-f470-3db15aafbc89"
      },
      "outputs": [],
      "source": [
        "train_df['FamilySize'] = train_df['SibSp'] + train_df['Parch'] + 1\n",
        "train_df"
      ]
    },
    {
      "cell_type": "code",
      "execution_count": null,
      "metadata": {
        "colab": {
          "base_uri": "https://localhost:8080/",
          "height": 331
        },
        "id": "b7KAD3wuPiJJ",
        "outputId": "7589c8c9-5afb-461f-d58f-d8903aa8f66b"
      },
      "outputs": [],
      "source": [
        "train_df[['FamilySize', 'Survived']].groupby(['FamilySize'], as_index=False).mean().sort_values(by='Survived', ascending=False)"
      ]
    },
    {
      "cell_type": "markdown",
      "metadata": {
        "_cell_guid": "842188e6-acf8-2476-ccec-9e3451e4fa86",
        "_uuid": "67f8e4474cd1ecf4261c153ce8b40ea23cf659e4",
        "id": "mkgaaSn2PiJJ"
      },
      "source": [
        "We can create another feature called IsAlone."
      ]
    },
    {
      "cell_type": "code",
      "execution_count": null,
      "metadata": {
        "_cell_guid": "5c778c69-a9ae-1b6b-44fe-a0898d07be7a",
        "_uuid": "3b8db81cc3513b088c6bcd9cd1938156fe77992f",
        "colab": {
          "base_uri": "https://localhost:8080/",
          "height": 423
        },
        "id": "izHYxf7SPiJJ",
        "outputId": "bca1f9a2-0801-49f4-8f54-67c8e608dc22"
      },
      "outputs": [],
      "source": [
        "train_df['IsAlone'] = 0\n",
        "train_df"
      ]
    },
    {
      "cell_type": "code",
      "execution_count": null,
      "metadata": {
        "colab": {
          "base_uri": "https://localhost:8080/",
          "height": 423
        },
        "id": "RPUD3AnMPiJJ",
        "outputId": "1d8591ab-25da-4d7b-9876-5676b8a3803f"
      },
      "outputs": [],
      "source": [
        "train_df.loc[train_df['FamilySize'] == 1, 'IsAlone'] = 1\n",
        "\n",
        "train_df"
      ]
    },
    {
      "cell_type": "code",
      "execution_count": null,
      "metadata": {
        "colab": {
          "base_uri": "https://localhost:8080/",
          "height": 112
        },
        "id": "6wmS5uvrPiJJ",
        "outputId": "d945b8c7-d017-4328-ec20-ed4075514f82"
      },
      "outputs": [],
      "source": [
        "train_df[['IsAlone', 'Survived']].groupby(['IsAlone'], as_index=False).mean()"
      ]
    },
    {
      "cell_type": "markdown",
      "metadata": {
        "_cell_guid": "e6b87c09-e7b2-f098-5b04-4360080d26bc",
        "_uuid": "3da4204b2c78faa54a94bbad78a8aa85fbf90c87",
        "id": "tj-I3dFVPiJJ"
      },
      "source": [
        "Let us drop Parch, SibSp, and FamilySize features in favor of IsAlone."
      ]
    }
  ],
  "metadata": {
    "_change_revision": 0,
    "_is_fork": false,
    "colab": {
      "provenance": [],
      "toc_visible": true
    },
    "kernelspec": {
      "display_name": ".venv",
      "language": "python",
      "name": "python3"
    },
    "language_info": {
      "codemirror_mode": {
        "name": "ipython",
        "version": 3
      },
      "file_extension": ".py",
      "mimetype": "text/x-python",
      "name": "python",
      "nbconvert_exporter": "python",
      "pygments_lexer": "ipython3",
      "version": "3.12.3"
    }
  },
  "nbformat": 4,
  "nbformat_minor": 0
}
