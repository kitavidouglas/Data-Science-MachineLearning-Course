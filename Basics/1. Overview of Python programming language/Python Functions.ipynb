{
 "cells": [
  {
   "cell_type": "markdown",
   "metadata": {},
   "source": [
    "# Three Tricks on Python Functions that You Should Know\n",
    "\n",
    "This tutorial covers the following three advanced programming tricks on Python functions:\n",
    "* nested functions\n",
    "* variable parameters\n",
    "* lambda functions\n",
    "\n",
    "## Nested Function\n",
    "A nested function is a function within another function. Due to scope rules, usually a nested function cannot be invoked outside the container function.\n",
    "\n",
    "Nested functions can be used when a repeated operation should be run inside and only inside a function. The following example defines a function, which receives as input two strings, manipulates them and returns them."
   ]
  },
  {
   "cell_type": "code",
   "execution_count": 1,
   "metadata": {},
   "outputs": [],
   "source": [
    "def manipulate_strings(a,b):\n",
    "    \n",
    "    def inner(s):\n",
    "        s = s.lower()\n",
    "        return s[::-1]\n",
    "    \n",
    "    return inner(a), inner(b)"
   ]
  },
  {
   "cell_type": "markdown",
   "metadata": {},
   "source": [
    "Test the function on two strings:"
   ]
  },
  {
   "cell_type": "code",
   "execution_count": 2,
   "metadata": {},
   "outputs": [
    {
     "data": {
      "text/plain": [
       "('olleh', 'dlrow')"
      ]
     },
     "execution_count": 2,
     "metadata": {},
     "output_type": "execute_result"
    }
   ],
   "source": [
    "a = \"HELLO\"\n",
    "b = \"WORLD\"\n",
    "manipulate_strings(a,b)"
   ]
  },
  {
   "cell_type": "markdown",
   "metadata": {},
   "source": [
    "A nested function can be also returned by the outer function. \n",
    "\n",
    "Consider the following trivial function, which receives as input a number and returns as a function, which converts a string to lowercase and, then, if the string length is greater than n, it truncates the string to n-1. The function returns the inner function."
   ]
  },
  {
   "cell_type": "code",
   "execution_count": 81,
   "metadata": {},
   "outputs": [],
   "source": [
    "def manipulate_string(n):\n",
    "    \n",
    "    def inner(a):\n",
    "        a = a.lower()\n",
    "        if n < len(a):\n",
    "            a = a[:n]\n",
    "        return a\n",
    "    \n",
    "    return inner"
   ]
  },
  {
   "cell_type": "markdown",
   "metadata": {},
   "source": [
    "Now, I can invoke the function and assign the returning value to a variable, which will contain the inner function."
   ]
  },
  {
   "cell_type": "code",
   "execution_count": 82,
   "metadata": {},
   "outputs": [],
   "source": [
    "manipulate = manipulate_string(3)"
   ]
  },
  {
   "cell_type": "markdown",
   "metadata": {},
   "source": [
    "And then, I can invoke the inner function with different strings:"
   ]
  },
  {
   "cell_type": "code",
   "execution_count": 85,
   "metadata": {},
   "outputs": [
    {
     "data": {
      "text/plain": [
       "'hel'"
      ]
     },
     "execution_count": 85,
     "metadata": {},
     "output_type": "execute_result"
    }
   ],
   "source": [
    "a = \"HELLO\"\n",
    "manipulate(a)"
   ]
  },
  {
   "cell_type": "markdown",
   "metadata": {},
   "source": [
    "The previous example demonstrates how nested functions can be used when you have some general parameters, which can be initialisated by the outer function, and then specific parameters can be used within the inner function."
   ]
  },
  {
   "cell_type": "markdown",
   "metadata": {},
   "source": [
    "## Variable Parameters\n",
    "Usually a function is invoked with a fixed number of parameters, including default ones. However, Python provides a mechanism, which permits to invoke a function with a potential unlimited number of parameters. \n",
    "\n",
    "There are two types of variable parameters:\n",
    "* tuples (list of item) - passed as * parameter, e.g. `*args`\n",
    "* dictionaries (key-value pairs) - passed as ** parameter, e.g. `**kargs`.\n",
    "\n",
    "The following example shows how to concatenate a variable number of strings by exploiting `*args`:"
   ]
  },
  {
   "cell_type": "code",
   "execution_count": 30,
   "metadata": {},
   "outputs": [],
   "source": [
    "def concatenate(*args):\n",
    "    output = ''\n",
    "    for item in args:\n",
    "        output = output + item\n",
    "    return output"
   ]
  },
  {
   "cell_type": "markdown",
   "metadata": {},
   "source": [
    "And now I test the function with a variable number of parameters:"
   ]
  },
  {
   "cell_type": "code",
   "execution_count": 31,
   "metadata": {},
   "outputs": [
    {
     "data": {
      "text/plain": [
       "'dogcat'"
      ]
     },
     "execution_count": 31,
     "metadata": {},
     "output_type": "execute_result"
    }
   ],
   "source": [
    "concatenate('dog', 'cat')"
   ]
  },
  {
   "cell_type": "code",
   "execution_count": 32,
   "metadata": {},
   "outputs": [
    {
     "data": {
      "text/plain": [
       "'greenredyellow'"
      ]
     },
     "execution_count": 32,
     "metadata": {},
     "output_type": "execute_result"
    }
   ],
   "source": [
    "concatenate('green', 'red', 'yellow')"
   ]
  },
  {
   "cell_type": "markdown",
   "metadata": {},
   "source": [
    "The following example shows how to exploit the `**kargs` parameter. I define a class `Configuration`, which contains three parameters: alpha, beta and gamma. The class provides method, called `configure()` which can receive as input a variable number of parameters, which correspond to the configuration parameters of the class. The user can decide whether to set all the configuration parameters or only a subset of them."
   ]
  },
  {
   "cell_type": "code",
   "execution_count": 71,
   "metadata": {},
   "outputs": [],
   "source": [
    "class Configuration:\n",
    "    \n",
    "    def __init__(self):\n",
    "        self.p = {}\n",
    "        self.p['alpha'] = None\n",
    "        self.p['beta'] = None\n",
    "        self.p['gamma'] = None\n",
    "    \n",
    "    def configure(self,**kargs):\n",
    "        for k,v in kargs.items():\n",
    "            self.p[k] = v\n",
    "            \n",
    "    def print_configuration(self):\n",
    "        for k,v in self.p.items():\n",
    "            print(k + ': ' + str(v))"
   ]
  },
  {
   "cell_type": "markdown",
   "metadata": {},
   "source": [
    "The class `Configuration` also provides a method, called `print_configuration()`, which prints the current status of the instance.\n",
    "\n",
    "I can create a `Configuration()` object and then I can decide, for example, to set only the alpha parameter:"
   ]
  },
  {
   "cell_type": "code",
   "execution_count": 72,
   "metadata": {},
   "outputs": [],
   "source": [
    "config = Configuration()"
   ]
  },
  {
   "cell_type": "code",
   "execution_count": 73,
   "metadata": {},
   "outputs": [],
   "source": [
    "config.configure(alpha = 2)"
   ]
  },
  {
   "cell_type": "markdown",
   "metadata": {},
   "source": [
    "I  print the current configuration to make sure that the alpha parameter has been set:"
   ]
  },
  {
   "cell_type": "code",
   "execution_count": 74,
   "metadata": {},
   "outputs": [
    {
     "name": "stdout",
     "output_type": "stream",
     "text": [
      "alpha: 2\n",
      "beta: None\n",
      "gamma: None\n"
     ]
    }
   ],
   "source": [
    "config.print_configuration()"
   ]
  },
  {
   "cell_type": "markdown",
   "metadata": {},
   "source": [
    "Now I can set the alpha and the beta parameters:"
   ]
  },
  {
   "cell_type": "code",
   "execution_count": 75,
   "metadata": {},
   "outputs": [
    {
     "name": "stdout",
     "output_type": "stream",
     "text": [
      "alpha: 2\n",
      "beta: 4\n",
      "gamma: None\n"
     ]
    }
   ],
   "source": [
    "config.configure(alpha = 2, beta = 4)\n",
    "config.print_configuration()"
   ]
  },
  {
   "cell_type": "markdown",
   "metadata": {},
   "source": [
    "# Lambda Function\n",
    "A lambda function is an inline function, which can be used to run simple and repetitive operations, such well-known math operations.\n",
    "\n",
    "The following snippet of code shows how to calculate the Pythagorean theorem through a lambda function:"
   ]
  },
  {
   "cell_type": "code",
   "execution_count": 76,
   "metadata": {},
   "outputs": [],
   "source": [
    "from math import sqrt\n",
    "pythagora = lambda x,y : sqrt(x**2 + y**2)"
   ]
  },
  {
   "cell_type": "code",
   "execution_count": 77,
   "metadata": {},
   "outputs": [
    {
     "data": {
      "text/plain": [
       "5.0"
      ]
     },
     "execution_count": 77,
     "metadata": {},
     "output_type": "execute_result"
    }
   ],
   "source": [
    "pythagora(3,4)"
   ]
  },
  {
   "cell_type": "code",
   "execution_count": 78,
   "metadata": {},
   "outputs": [
    {
     "data": {
      "text/plain": [
       "7.615773105863909"
      ]
     },
     "execution_count": 78,
     "metadata": {},
     "output_type": "execute_result"
    }
   ],
   "source": [
    "pythagora(3,7)"
   ]
  },
  {
   "cell_type": "code",
   "execution_count": null,
   "metadata": {},
   "outputs": [],
   "source": []
  }
 ],
 "metadata": {
  "kernelspec": {
   "display_name": "Python 3",
   "language": "python",
   "name": "python3"
  },
  "language_info": {
   "codemirror_mode": {
    "name": "ipython",
    "version": 3
   },
   "file_extension": ".py",
   "mimetype": "text/x-python",
   "name": "python",
   "nbconvert_exporter": "python",
   "pygments_lexer": "ipython3",
   "version": "3.8.1"
  }
 },
 "nbformat": 4,
 "nbformat_minor": 4
}
