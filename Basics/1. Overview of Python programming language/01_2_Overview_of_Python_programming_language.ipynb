{
  "cells": [
    {
      "cell_type": "markdown",
      "metadata": {
        "id": "w7aJZt68w_za"
      },
      "source": [
        "Prepared By\n",
        "\n",
        "*Asif Newaz, Lecturer, EEE, IUT*"
      ]
    },
    {
      "cell_type": "markdown",
      "metadata": {
        "id": "7unZvFU6xISR"
      },
      "source": [
        "# Intro"
      ]
    },
    {
      "cell_type": "markdown",
      "metadata": {
        "id": "k5DyoSD4xLj1"
      },
      "source": [
        "Previously, we focused on python data structures. In this notebook, we will see some basic operations such as loop, conditional statement, mapping, etc."
      ]
    },
    {
      "cell_type": "markdown",
      "metadata": {
        "id": "1i9zxGmN6z3W"
      },
      "source": [
        "# Conditional statement"
      ]
    },
    {
      "cell_type": "markdown",
      "metadata": {
        "id": "O-6gPX8W69rj"
      },
      "source": [
        "Conditional statements in python are if, elif, and else."
      ]
    },
    {
      "cell_type": "markdown",
      "metadata": {
        "id": "sfDvRI6Q7IfD"
      },
      "source": [
        "The syntax goes like this -\n",
        "\n",
        "      if condition:\n",
        "    # code block executed if condition is True\n",
        "      elif another_condition:\n",
        "    # code block executed if another_condition is True\n",
        "      else:\n",
        "    # code block executed if no previous conditions are True\n"
      ]
    },
    {
      "cell_type": "code",
      "execution_count": null,
      "metadata": {
        "colab": {
          "base_uri": "https://localhost:8080/"
        },
        "id": "jh8HudYV7F2d",
        "outputId": "300f826b-dcfa-46d6-d990-3ed1cf65d8af"
      },
      "outputs": [
        {
          "ename": "",
          "evalue": "",
          "output_type": "error",
          "traceback": [
            "\u001b[1;31mRunning cells with 'Python 3.12.3' requires the ipykernel package.\n",
            "\u001b[1;31m<a href='command:jupyter.createPythonEnvAndSelectController'>Create a Python Environment</a> with the required packages.\n",
            "\u001b[1;31mOr install 'ipykernel' using the command: '/usr/bin/python3 -m pip install ipykernel -U --user --force-reinstall'"
          ]
        }
      ],
      "source": [
        "a=10\n",
        "if a>5:\n",
        "  print('a is greater than 5')\n",
        "elif a==5:\n",
        "  print('a is equal to 5')\n",
        "else:\n",
        "  print('a is less than 5')"
      ]
    },
    {
      "cell_type": "code",
      "execution_count": null,
      "metadata": {
        "colab": {
          "base_uri": "https://localhost:8080/"
        },
        "id": "V8PqBejT7o8E",
        "outputId": "bb90cc1d-64ad-4899-e4b1-3585efa58fe4"
      },
      "outputs": [],
      "source": [
        "a=11\n",
        "if a>5 and a%2==0:\n",
        "  print('a is greater than 5 and divisible by 2')\n",
        "elif a==5 and a%2==0:\n",
        "  print('a is equal to 5 and divisible by 2')\n",
        "elif a>5 and a%2!=0:\n",
        "  print('a is greater than 5 and not divisible by 2')\n",
        "elif a==5 and a%2!=0:\n",
        "  print('a is equal to 5 and not divisible by 2')\n",
        "else:\n",
        "  print('a is less than 5')"
      ]
    },
    {
      "cell_type": "markdown",
      "metadata": {
        "id": "pJcGqPq9xYc_"
      },
      "source": [
        "# Loop"
      ]
    },
    {
      "cell_type": "markdown",
      "metadata": {
        "id": "2TcfHmF_xhMp"
      },
      "source": [
        "You are already familiar with the concept. A loop is used to iterate over a sequence (such as a list, tuple, dictionary, set, or string) or any iterable object."
      ]
    },
    {
      "cell_type": "markdown",
      "metadata": {
        "id": "uYS3paksxq_O"
      },
      "source": [
        "The syntax in python is a bit different than MATLAB.\n",
        "\n",
        "It looks like this -  \n",
        "\n",
        "    for variable in sequence:\n",
        "          Code block to execute for each item"
      ]
    },
    {
      "cell_type": "code",
      "execution_count": null,
      "metadata": {
        "id": "-8fJuXoOw87D"
      },
      "outputs": [],
      "source": [
        "fruits = [\"apple\", \"banana\", \"cherry\"]"
      ]
    },
    {
      "cell_type": "code",
      "execution_count": null,
      "metadata": {
        "colab": {
          "base_uri": "https://localhost:8080/"
        },
        "id": "gxN_MVWLx8yA",
        "outputId": "e324a569-f7fc-4ab8-cb40-ef13209c98f6"
      },
      "outputs": [],
      "source": [
        "for ii in fruits:\n",
        "  print(ii[0:2])\n",
        "\n",
        "# here, ii holds the items (not the index) in the list one by one\n",
        "# in MATLAB, we iterate using index. But in python, we iterate directly over items"
      ]
    },
    {
      "cell_type": "code",
      "execution_count": null,
      "metadata": {
        "colab": {
          "base_uri": "https://localhost:8080/"
        },
        "id": "TO9n5mkT3Oth",
        "outputId": "4a869c8d-899f-4a10-ae62-374cad8869ce"
      },
      "outputs": [],
      "source": [
        "for j in fruits:\n",
        "  print(j.replace('a','*'))"
      ]
    },
    {
      "cell_type": "code",
      "execution_count": null,
      "metadata": {
        "colab": {
          "base_uri": "https://localhost:8080/"
        },
        "id": "cmrEVPqe3xkU",
        "outputId": "537d1533-a7fc-4aee-98d0-d44f1acf33f0"
      },
      "outputs": [],
      "source": [
        "for i in fruits:\n",
        "  for j in i:\n",
        "    print(j)\n"
      ]
    },
    {
      "cell_type": "markdown",
      "metadata": {
        "id": "UwYEb8533prO"
      },
      "source": [
        "## *Using range*"
      ]
    },
    {
      "cell_type": "markdown",
      "metadata": {
        "id": "sLlEwROa4w9r"
      },
      "source": [
        "To use numerical index, you can use the range function."
      ]
    },
    {
      "cell_type": "code",
      "execution_count": null,
      "metadata": {
        "colab": {
          "base_uri": "https://localhost:8080/"
        },
        "id": "DIva5yyY6YE9",
        "outputId": "2dceff16-0908-4a21-ddf6-759e32131618"
      },
      "outputs": [],
      "source": [
        "range(5)"
      ]
    },
    {
      "cell_type": "code",
      "execution_count": null,
      "metadata": {
        "colab": {
          "base_uri": "https://localhost:8080/"
        },
        "id": "GC05pcTk6Z3Z",
        "outputId": "dcbbdc99-2244-4808-994b-ab69b94e04c9"
      },
      "outputs": [],
      "source": [
        "list(range(5))"
      ]
    },
    {
      "cell_type": "code",
      "execution_count": null,
      "metadata": {
        "colab": {
          "base_uri": "https://localhost:8080/"
        },
        "id": "shyEMOTo4rj2",
        "outputId": "16c0fdc2-4b24-4c5d-ac03-baeefd22a16b"
      },
      "outputs": [],
      "source": [
        "for i in range(5):\n",
        "    print(i)"
      ]
    },
    {
      "cell_type": "markdown",
      "metadata": {
        "id": "Qr5miiuj8sQZ"
      },
      "source": [
        "## *Examples*"
      ]
    },
    {
      "cell_type": "code",
      "execution_count": null,
      "metadata": {
        "colab": {
          "base_uri": "https://localhost:8080/"
        },
        "id": "345vzrMx40qT",
        "outputId": "754a1bd2-2a96-4527-d826-80aacbd6a0f7"
      },
      "outputs": [],
      "source": [
        "numbers = [11, 20, 30, 44, 55, 16, 71, 83, 93, 103]\n",
        "even_numbers = []\n",
        "odd_numbers = []\n",
        "\n",
        "for num in numbers:\n",
        "    if num % 2 == 0:\n",
        "        even_numbers.append(num)\n",
        "    else:\n",
        "        odd_numbers.append(num)\n",
        "\n",
        "print(\"Even Numbers:\", even_numbers)\n",
        "print(\"Odd Numbers:\", odd_numbers)\n"
      ]
    },
    {
      "cell_type": "code",
      "execution_count": null,
      "metadata": {
        "colab": {
          "base_uri": "https://localhost:8080/"
        },
        "id": "-ZJ7d-1O8jDD",
        "outputId": "ddb82592-60f7-441a-8a0d-730d64ca0c55"
      },
      "outputs": [],
      "source": [
        "# Fibonacci sequence\n",
        "n_terms = 10\n",
        "fib_sequence = [0, 1]\n",
        "\n",
        "for i in range(2, n_terms):\n",
        "    next_term = fib_sequence[i-1] + fib_sequence[i-2]\n",
        "    fib_sequence.append(next_term)\n",
        "\n",
        "print(\"Fibonacci Sequence:\", fib_sequence)\n"
      ]
    },
    {
      "cell_type": "markdown",
      "metadata": {
        "id": "LAKUSfmj81Ct"
      },
      "source": [
        "## *While*"
      ]
    },
    {
      "cell_type": "code",
      "execution_count": null,
      "metadata": {
        "colab": {
          "base_uri": "https://localhost:8080/"
        },
        "id": "VMDBS2G682w9",
        "outputId": "dccfad9b-5f89-4621-c462-a281c4d459be"
      },
      "outputs": [],
      "source": [
        "count = 0\n",
        "\n",
        "while count < 5:\n",
        "    print(\"Count:\", count)\n",
        "    count += 1                   # this is equivalent to count=count+1"
      ]
    },
    {
      "cell_type": "code",
      "execution_count": null,
      "metadata": {
        "colab": {
          "base_uri": "https://localhost:8080/"
        },
        "id": "ZuESynTW9JcV",
        "outputId": "68c83b6a-cb34-4954-aaa1-c20105d3f815"
      },
      "outputs": [],
      "source": [
        "count = 0\n",
        "\n",
        "while True:\n",
        "    print(\"Count:\", count)\n",
        "    count += 1\n",
        "\n",
        "    if count == 3:\n",
        "        print(\"Breaking out of the loop.\")\n",
        "        break\n"
      ]
    },
    {
      "cell_type": "markdown",
      "metadata": {
        "id": "x35h5bSXgqu1"
      },
      "source": [
        "# Python Class"
      ]
    },
    {
      "cell_type": "markdown",
      "metadata": {
        "id": "S_ZTwuZog2OB"
      },
      "source": [
        "A class is a blueprint for creating objects. Let's try and understand the underlying concept.\n",
        "\n",
        "Consider an apple. It has certain properties like color, weight. You can also perform some operations on it such as slicing. So, this apple is an object just like a list or a string or a dictionary.\n",
        "\n",
        "An object is an instance of a class, which acts as a blueprint or template for creating objects.\n",
        "\n",
        "Analogy: Think of a class as a blueprint for a house. The blueprint defines the structure of the house (rooms, windows, doors), but it doesn’t represent a physical house. When you build a house based on that blueprint, that house is an object. You can build multiple houses (objects) from the same blueprint (class), each with specific attributes like color, number of floors, etc.\n"
      ]
    },
    {
      "cell_type": "markdown",
      "metadata": {
        "id": "NYJL2-Rhix6P"
      },
      "source": [
        "##*Why use Class?*"
      ]
    },
    {
      "cell_type": "markdown",
      "metadata": {
        "id": "uk57nEgKi1LQ"
      },
      "source": [
        "\n",
        "\n",
        "*   Modularity: Classes help break down complex problems into smaller, more manageable parts, each with its own responsibilities.\n",
        "*   Reusability: Once a class is defined, you can create multiple objects from it and reuse its functionality without rewriting the same code.\n",
        "* Maintainability: Encapsulation ensures that objects' internal states are protected, and inheritance helps avoid redundant code, making the code easier to maintain.\n",
        "* Flexibility: Through polymorphism and inheritance, you can build systems that are more flexible and adaptable to changes.\n",
        "\n",
        "\n",
        "\n",
        "\n"
      ]
    },
    {
      "cell_type": "markdown",
      "metadata": {
        "id": "ihBVcGuHjAVE"
      },
      "source": [
        "##*Object-Oriented Programming*"
      ]
    },
    {
      "cell_type": "markdown",
      "metadata": {
        "id": "ae1g8ezxjHG9"
      },
      "source": [
        "Python is an Object-Oriented Programming (OOP) language. But it also supports functional programming. Everything in Python is basically considered an object.\n",
        "\n",
        "OOP is a programming paradigm where code is organized into \"objects.\" Objects are instances of classes, which bundle data and methods (functions) together to model real-world entities or concepts. OOP allows for better organization, reusability, and scalability of code by using key principles like encapsulation, inheritance, polymorphism, and abstraction."
      ]
    },
    {
      "cell_type": "markdown",
      "metadata": {
        "id": "oG1hGq5RQico"
      },
      "source": [
        "## *Class and object*"
      ]
    },
    {
      "cell_type": "markdown",
      "metadata": {
        "id": "H-geiHXIQnfn"
      },
      "source": [
        "\n",
        "\n",
        "*   Class: A class is a blueprint or template for creating objects. It defines the properties (data) and behaviors (methods) that the objects created from the class will have.\n",
        "*   Object: An object is an instance of a class. When a class is defined, no memory is allocated until you create an object (instantiate the class).\n",
        "\n"
      ]
    },
    {
      "cell_type": "markdown",
      "metadata": {
        "id": "MzN7Gxivjub9"
      },
      "source": [
        "##*Creating a Class*"
      ]
    },
    {
      "cell_type": "markdown",
      "metadata": {
        "id": "_HanvQ3CQMgj"
      },
      "source": [
        "    class name:\n",
        "        # Statement"
      ]
    },
    {
      "cell_type": "markdown",
      "metadata": {
        "id": "r3N5MdAlY3CB"
      },
      "source": [
        "**Version-01**"
      ]
    },
    {
      "cell_type": "code",
      "execution_count": null,
      "metadata": {
        "id": "1OscyeK_RZr9"
      },
      "outputs": [],
      "source": [
        "class Wolf:\n",
        "  color = 'White'\n",
        "  sound = 'howl'\n",
        "\n",
        "  def proclaim(self):\n",
        "    print(f\"He is the {self.color} wolf\")\n",
        "\n",
        "# A class holds two things - the properties and the methods."
      ]
    },
    {
      "cell_type": "code",
      "execution_count": null,
      "metadata": {
        "colab": {
          "base_uri": "https://localhost:8080/"
        },
        "id": "xblQSx4_TNR9",
        "outputId": "99e10c17-d6a8-44c4-9b30-906055d9dc71"
      },
      "outputs": [],
      "source": [
        "Jon = Wolf()\n",
        "Jon\n",
        "# This is called instantiating a class\n",
        "# Here, Jon is an object that we created"
      ]
    },
    {
      "cell_type": "code",
      "execution_count": null,
      "metadata": {
        "colab": {
          "base_uri": "https://localhost:8080/",
          "height": 36
        },
        "id": "L-LjbkEcTUoC",
        "outputId": "18e613ba-80bc-4367-e0e1-ffc238eafb86"
      },
      "outputs": [],
      "source": [
        "Jon.color\n",
        "# The object we created has the property of the original class"
      ]
    },
    {
      "cell_type": "code",
      "execution_count": null,
      "metadata": {
        "colab": {
          "base_uri": "https://localhost:8080/"
        },
        "id": "DO_XJYXQTdaY",
        "outputId": "7d719e68-c566-4f23-95f3-0e794d2455af"
      },
      "outputs": [],
      "source": [
        "Jon.proclaim()\n",
        "# calling on a method on the object we created"
      ]
    },
    {
      "cell_type": "markdown",
      "metadata": {
        "id": "P7j_CB2GO8Bh"
      },
      "source": [
        "I can create many such 'instances' using the blueprint (class). All those instances (objects) will have the property and functions of the class."
      ]
    },
    {
      "cell_type": "code",
      "execution_count": null,
      "metadata": {
        "colab": {
          "base_uri": "https://localhost:8080/",
          "height": 36
        },
        "id": "CjOWWDaUU5OS",
        "outputId": "0e7d7cfe-ad64-42f1-bf87-eefe5915de08"
      },
      "outputs": [],
      "source": [
        "Bran = Wolf()\n",
        "Bran.sound"
      ]
    },
    {
      "cell_type": "code",
      "execution_count": null,
      "metadata": {
        "colab": {
          "base_uri": "https://localhost:8080/"
        },
        "id": "P2_MPSh_VFRp",
        "outputId": "40ca3357-4485-4888-abf3-34786f4087da"
      },
      "outputs": [],
      "source": [
        "Bran.proclaim()"
      ]
    },
    {
      "cell_type": "markdown",
      "metadata": {
        "id": "Om6QxZjcWODV"
      },
      "source": [
        "But Bran's wolf has a different color.\n",
        "\n",
        "Different objects of the same category (wolf) can have different properties. How to incorporate that?"
      ]
    },
    {
      "cell_type": "markdown",
      "metadata": {
        "id": "Lp4x36o9Y8gq"
      },
      "source": [
        "**Version-02**"
      ]
    },
    {
      "cell_type": "code",
      "execution_count": null,
      "metadata": {
        "id": "0G-yShvIWf-l"
      },
      "outputs": [],
      "source": [
        "class Wolf_v2:\n",
        "  sound = 'howl'\n",
        "\n",
        "  def __init__(self, color):\n",
        "    self.color = color\n",
        "\n",
        "        # The __init__ method is what we call a constructor. The method is useful to do any initialization you want to do with your object.\n",
        "\n",
        "  def proclaim(self):\n",
        "    print(f\"He is the {self.color} wolf\")"
      ]
    },
    {
      "cell_type": "code",
      "execution_count": null,
      "metadata": {
        "colab": {
          "base_uri": "https://localhost:8080/"
        },
        "id": "YOv4_GhgXAqd",
        "outputId": "2a1c2034-7064-4a9b-d5bc-9e50cd829d04"
      },
      "outputs": [],
      "source": [
        "Bran_v2 = Wolf_v2('Brown')\n",
        "\n",
        "print(Bran_v2.color)\n",
        "print(Bran_v2.sound)"
      ]
    },
    {
      "cell_type": "code",
      "execution_count": null,
      "metadata": {
        "colab": {
          "base_uri": "https://localhost:8080/"
        },
        "id": "3tLRSQJbXNZg",
        "outputId": "c3c869f5-a0a9-4f63-904d-d48d3c1b1b44"
      },
      "outputs": [],
      "source": [
        "Bran_v2.proclaim()"
      ]
    },
    {
      "cell_type": "markdown",
      "metadata": {
        "id": "5zbcIC9OXWvW"
      },
      "source": [
        "So, we can have two types of properties/variable. One is class variables (common for all instances) and the other is instance variable (object specific)."
      ]
    },
    {
      "cell_type": "markdown",
      "metadata": {
        "id": "h7r6Mc8SY-4y"
      },
      "source": [
        "**Version-03**"
      ]
    },
    {
      "cell_type": "code",
      "execution_count": null,
      "metadata": {
        "id": "MhaWJ7geYVxx"
      },
      "outputs": [],
      "source": [
        "class Wolf_v3:\n",
        "  sound = 'howl'\n",
        "\n",
        "  def __init__(self, color):\n",
        "    self.color = color\n",
        "\n",
        "  def proclaim(self, name):\n",
        "    self.name = name\n",
        "    print(f\"He is the {self.name} wolf\")"
      ]
    },
    {
      "cell_type": "code",
      "execution_count": null,
      "metadata": {
        "colab": {
          "base_uri": "https://localhost:8080/",
          "height": 141
        },
        "id": "kYO_ghNIYjL9",
        "outputId": "b12a3edf-6251-4efa-ce27-77166e16ca7b"
      },
      "outputs": [],
      "source": [
        "Jon= Wolf_v3()\n",
        "# to define that class, it needs one mandatory variable"
      ]
    },
    {
      "cell_type": "code",
      "execution_count": null,
      "metadata": {
        "id": "CLXjklN1Yo2H"
      },
      "outputs": [],
      "source": [
        "Rob=Wolf_v3('Gray')"
      ]
    },
    {
      "cell_type": "code",
      "execution_count": null,
      "metadata": {
        "colab": {
          "base_uri": "https://localhost:8080/",
          "height": 36
        },
        "id": "FMBEP5flZIN_",
        "outputId": "0f5d1672-52c7-4c5b-9103-e56397d55605"
      },
      "outputs": [],
      "source": [
        "Rob.color"
      ]
    },
    {
      "cell_type": "code",
      "execution_count": null,
      "metadata": {
        "colab": {
          "base_uri": "https://localhost:8080/",
          "height": 141
        },
        "id": "mkdbcTuBZL9F",
        "outputId": "ed4f68c4-5d29-4cf2-f38d-9a74579baf7e"
      },
      "outputs": [],
      "source": [
        "Rob.proclaim()"
      ]
    },
    {
      "cell_type": "code",
      "execution_count": null,
      "metadata": {
        "colab": {
          "base_uri": "https://localhost:8080/"
        },
        "id": "tndQcWwhZQ2D",
        "outputId": "d8f9e392-a36e-4988-968d-d3b5ad3e4932"
      },
      "outputs": [],
      "source": [
        "Rob.proclaim('young')"
      ]
    },
    {
      "cell_type": "markdown",
      "metadata": {
        "id": "36EUriFzatWg"
      },
      "source": [
        "## *Example*"
      ]
    },
    {
      "cell_type": "code",
      "execution_count": null,
      "metadata": {
        "id": "jOiv42UuawQb"
      },
      "outputs": [],
      "source": [
        "class Room:\n",
        "    length = 1\n",
        "    breadth = 1\n",
        "    color = 'off-white'\n",
        "\n",
        "    # method to calculate area\n",
        "    def calculate_area(self):\n",
        "        print(\"Area of Room =\", self.length * self.breadth)\n"
      ]
    },
    {
      "cell_type": "code",
      "execution_count": null,
      "metadata": {
        "colab": {
          "base_uri": "https://localhost:8080/"
        },
        "id": "eQsXFLR1a4y3",
        "outputId": "7f4c536c-6e73-4e70-d53c-aa5d08dc3968"
      },
      "outputs": [],
      "source": [
        "# create object of Room class\n",
        "my_room = Room()\n",
        "\n",
        "my_room.calculate_area()"
      ]
    },
    {
      "cell_type": "code",
      "execution_count": null,
      "metadata": {
        "colab": {
          "base_uri": "https://localhost:8080/",
          "height": 36
        },
        "id": "JVslccICgG79",
        "outputId": "c47f117d-5b42-4340-ac0f-873d321ecbfb"
      },
      "outputs": [],
      "source": [
        "my_room.color"
      ]
    },
    {
      "cell_type": "code",
      "execution_count": null,
      "metadata": {
        "colab": {
          "base_uri": "https://localhost:8080/"
        },
        "id": "iF8E4nBYbH3C",
        "outputId": "922cced4-4edc-4a1d-f677-d63392e9e890"
      },
      "outputs": [],
      "source": [
        "# you can assign different values to your instances\n",
        "my_room.length = 10\n",
        "my_room.breadth = 20\n",
        "\n",
        "my_room.calculate_area()"
      ]
    },
    {
      "cell_type": "markdown",
      "metadata": {
        "id": "odlNqjfdfUCz"
      },
      "source": [
        "# Inheritence"
      ]
    },
    {
      "cell_type": "markdown",
      "metadata": {
        "id": "ZTrhOdlVfWjG"
      },
      "source": [
        "Python supports class inheritance. It allows us to create a new class from an existing one.\n",
        "\n",
        "*   The newly created class is known as the subclass or child class.\n",
        "*   The existing class from which the child class inherits is known as the superclass or parent class.\n",
        "\n"
      ]
    },
    {
      "cell_type": "code",
      "execution_count": null,
      "metadata": {
        "id": "X6eVeQpWgKnK"
      },
      "outputs": [],
      "source": [
        "class Bath(Room):\n",
        "  element = ['shower', 'bathtub', 'towels']\n",
        "\n",
        "  def __init__(self, bathtub_area):\n",
        "     super().__init__()\n",
        "     self.bathtub_area = bathtub_area\n",
        "\n",
        "#  To access the superclass method from the subclass, we use the super() function.\n"
      ]
    },
    {
      "cell_type": "code",
      "execution_count": null,
      "metadata": {
        "id": "MgbCNJTYh7Wr"
      },
      "outputs": [],
      "source": [
        "bath_01= Bath(10)"
      ]
    },
    {
      "cell_type": "code",
      "execution_count": null,
      "metadata": {
        "colab": {
          "base_uri": "https://localhost:8080/"
        },
        "id": "_0Vb7JXLiFLm",
        "outputId": "07abc206-fadd-45fe-f6d2-23577861d417"
      },
      "outputs": [],
      "source": [
        "bath_01.element"
      ]
    },
    {
      "cell_type": "code",
      "execution_count": null,
      "metadata": {
        "colab": {
          "base_uri": "https://localhost:8080/",
          "height": 36
        },
        "id": "vbRmSKHziIKB",
        "outputId": "02af169a-d727-4a1d-ef52-398060e9d821"
      },
      "outputs": [],
      "source": [
        "bath_01.color"
      ]
    },
    {
      "cell_type": "code",
      "execution_count": null,
      "metadata": {
        "colab": {
          "base_uri": "https://localhost:8080/"
        },
        "id": "amjJhjiviPY7",
        "outputId": "9ecbf550-4324-4f27-c65d-f08dcc6653c4"
      },
      "outputs": [],
      "source": [
        "bath_01.bathtub_area"
      ]
    },
    {
      "cell_type": "code",
      "execution_count": null,
      "metadata": {
        "colab": {
          "base_uri": "https://localhost:8080/"
        },
        "id": "7eBTS2BLiR5g",
        "outputId": "23312cd4-e5fa-4b5f-f540-43a597a7549a"
      },
      "outputs": [],
      "source": [
        "bath_01.length = 5\n",
        "bath_01.breadth = 5\n",
        "bath_01.calculate_area()"
      ]
    },
    {
      "cell_type": "markdown",
      "metadata": {
        "id": "xJ6JqpGJjEnv"
      },
      "source": [
        "## *Method overriding*"
      ]
    },
    {
      "cell_type": "code",
      "execution_count": null,
      "metadata": {
        "id": "3hG50Ud6jHgI"
      },
      "outputs": [],
      "source": [
        "class Bath_v2(Room):\n",
        "  element = ['shower', 'bathtub', 'towels']\n",
        "\n",
        "  def __init__(self, bathtub_area):\n",
        "     super().__init__()\n",
        "     self.bathtub_area = bathtub_area\n",
        "\n",
        "  def calculate_area(self):\n",
        "    print(\"Area of Bath =\", self.bathtub_area*2)\n"
      ]
    },
    {
      "cell_type": "code",
      "execution_count": null,
      "metadata": {
        "id": "F2RvV7KPjbSj"
      },
      "outputs": [],
      "source": [
        "bath_02= Bath_v2(20)"
      ]
    },
    {
      "cell_type": "code",
      "execution_count": null,
      "metadata": {
        "colab": {
          "base_uri": "https://localhost:8080/"
        },
        "id": "tYY-M49KjfW5",
        "outputId": "97eac80b-622b-4e60-fb59-d827f92d1636"
      },
      "outputs": [],
      "source": [
        "bath_02.calculate_area()"
      ]
    },
    {
      "cell_type": "markdown",
      "metadata": {
        "id": "JLJx6S_HjlOy"
      },
      "source": [
        "If the same method is present in both the superclass and subclass, the method in the subclass overrides the method in the superclass."
      ]
    },
    {
      "cell_type": "markdown",
      "metadata": {
        "id": "MqyaQy8zjxqJ"
      },
      "source": [
        "## *Super*"
      ]
    },
    {
      "cell_type": "code",
      "execution_count": null,
      "metadata": {
        "id": "nRWsA-KFj9GF"
      },
      "outputs": [],
      "source": [
        "class Bath_v3(Room):\n",
        "  element = ['shower', 'bathtub', 'towels']\n",
        "\n",
        "  def __init__(self, bathtub_area):\n",
        "     self.bathtub_area = bathtub_area\n",
        "\n",
        "  def calculate_area(self):\n",
        "    super().calculate_area()\n",
        "    print(\"Area of Bath =\", self.bathtub_area*5)"
      ]
    },
    {
      "cell_type": "code",
      "execution_count": null,
      "metadata": {
        "id": "aNPk2987kA3r"
      },
      "outputs": [],
      "source": [
        "bath_03= Bath_v3(25)"
      ]
    },
    {
      "cell_type": "code",
      "execution_count": null,
      "metadata": {
        "colab": {
          "base_uri": "https://localhost:8080/"
        },
        "id": "HHrXKSARkHua",
        "outputId": "c188d9b7-4238-4220-845a-92e306a7f7c4"
      },
      "outputs": [],
      "source": [
        "bath_03.length"
      ]
    },
    {
      "cell_type": "code",
      "execution_count": null,
      "metadata": {
        "id": "NDcMVqPPkPDl"
      },
      "outputs": [],
      "source": [
        "bath_03.length = 5\n",
        "bath_03.breadth = 15"
      ]
    },
    {
      "cell_type": "code",
      "execution_count": null,
      "metadata": {
        "colab": {
          "base_uri": "https://localhost:8080/"
        },
        "id": "g1whmTEgkKlr",
        "outputId": "7487f3e4-9a8b-4b7a-d1da-a045f2bde567"
      },
      "outputs": [],
      "source": [
        "bath_03.calculate_area()"
      ]
    },
    {
      "cell_type": "markdown",
      "metadata": {
        "id": "mzkQ02N0lxcX"
      },
      "source": [
        "There are different types of inheritance in Python such as single, multiple, multilevel, etc."
      ]
    },
    {
      "cell_type": "markdown",
      "metadata": {
        "id": "y6h_M15VmDEU"
      },
      "source": [
        "## *Example*"
      ]
    },
    {
      "cell_type": "code",
      "execution_count": null,
      "metadata": {
        "colab": {
          "base_uri": "https://localhost:8080/"
        },
        "id": "bN9vLs93mNz0",
        "outputId": "79fb029b-b6c1-428f-996a-b51b1fcdf3bf"
      },
      "outputs": [],
      "source": [
        "class Parrot:\n",
        "\n",
        "    # class attribute\n",
        "    name = \" \"\n",
        "    age = 2\n",
        "\n",
        "# create parrot1 object\n",
        "parrot1 = Parrot()\n",
        "parrot1.name = \"Blu\"\n",
        "parrot1.age = 10\n",
        "\n",
        "# create another object parrot2\n",
        "parrot2 = Parrot()\n",
        "parrot2.name = \"Woo\"\n",
        "parrot2.age = 15\n",
        "\n",
        "parrot3 = Parrot()\n",
        "\n",
        "# access attributes\n",
        "print(f\"{parrot1.name} is {parrot1.age} years old\")\n",
        "print(f\"{parrot2.name} is {parrot2.age} years old\")\n",
        "print(f\"{parrot3.name} is {parrot3.age} years old\")"
      ]
    },
    {
      "cell_type": "markdown",
      "metadata": {
        "id": "_2vPWOjgo6vx"
      },
      "source": [
        "## *Encapsulation*"
      ]
    },
    {
      "cell_type": "markdown",
      "metadata": {
        "id": "JYZ2nJBAo9xL"
      },
      "source": [
        "It prevents outer classes from accessing and changing attributes and methods of a class."
      ]
    },
    {
      "cell_type": "code",
      "execution_count": null,
      "metadata": {
        "id": "EvgWsrWmpGPy"
      },
      "outputs": [],
      "source": [
        "class Room_v2:\n",
        "    length = 1\n",
        "    breadth = 1\n",
        "\n",
        "    def __init__(self):\n",
        "      self.__color = 'off-white'\n",
        "\n",
        "    # method to calculate area\n",
        "    def calculate_area(self):\n",
        "        print ( \"area:\", self.length * self.breadth)\n",
        "        print ( \"color:\", self.__color)"
      ]
    },
    {
      "cell_type": "code",
      "execution_count": null,
      "metadata": {
        "id": "UHvLQFQRpZ_s"
      },
      "outputs": [],
      "source": [
        "room_02 = Room_v2()"
      ]
    },
    {
      "cell_type": "code",
      "execution_count": null,
      "metadata": {
        "colab": {
          "base_uri": "https://localhost:8080/"
        },
        "id": "44UlNZYJpqGd",
        "outputId": "036b6006-1938-414c-ce57-1cb055466811"
      },
      "outputs": [],
      "source": [
        "room_02.breadth"
      ]
    },
    {
      "cell_type": "code",
      "execution_count": null,
      "metadata": {
        "id": "L1CF1t_LptNW"
      },
      "outputs": [],
      "source": [
        "room_02.breadth = 40"
      ]
    },
    {
      "cell_type": "code",
      "execution_count": null,
      "metadata": {
        "colab": {
          "base_uri": "https://localhost:8080/"
        },
        "id": "_9mbMFE6pw6p",
        "outputId": "75a238f6-2d6d-4f4f-cd2a-08fdffb9b6c9"
      },
      "outputs": [],
      "source": [
        "room_02.calculate_area()"
      ]
    },
    {
      "cell_type": "code",
      "execution_count": null,
      "metadata": {
        "id": "YhE8_9W_pzuu"
      },
      "outputs": [],
      "source": [
        "room_02.__color = 'gray'"
      ]
    },
    {
      "cell_type": "code",
      "execution_count": null,
      "metadata": {
        "colab": {
          "base_uri": "https://localhost:8080/"
        },
        "id": "ODfSa55Lp6Vq",
        "outputId": "6d4e199f-8abe-4ad4-b7bc-f057b948a352"
      },
      "outputs": [],
      "source": [
        "room_02.calculate_area()"
      ]
    },
    {
      "cell_type": "markdown",
      "metadata": {
        "id": "z2S6aG3OqpVe"
      },
      "source": [
        "Here, color is a private variable. To change the value, we have to use a setter function."
      ]
    }
  ],
  "metadata": {
    "colab": {
      "provenance": [],
      "toc_visible": true
    },
    "kernelspec": {
      "display_name": "Python 3",
      "name": "python3"
    },
    "language_info": {
      "name": "python",
      "version": "3.12.3"
    }
  },
  "nbformat": 4,
  "nbformat_minor": 0
}
